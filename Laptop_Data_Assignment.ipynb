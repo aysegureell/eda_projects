{
 "cells": [
  {
   "cell_type": "markdown",
   "metadata": {},
   "source": [
    "# <p style=\"background-color:green;font-family:newtimeroman;font-size:200%;color:white;text-align:center;border-radius:20px 20px;\"><b>Laptop Prices Project</b></p>\n",
    "![](https://www.techproeducation.com/logo/headerlogo.svg)\n",
    "\n",
    "<b>Yeniliklerden ilk siz haberdar olmak istiyorsanız lütfen bizi takip etmeyi unutmayın </b>[YouTube](https://www.youtube.com/c/techproeducation) | [Instagram](https://www.instagram.com/techproeducation) | [Facebook](https://www.facebook.com/techproeducation) | [Telegram](https://t.me/joinchat/HH2qRvA-ulh4OWbb) | [Whatsapp](https://api.whatsapp.com/send/?phone=%2B15853042959&text&type=phone_number&app_absent=0) | [LinkedIn](https://www.linkedin.com/company/techproeducation/mycompany/) |"
   ]
  },
  {
   "cell_type": "markdown",
   "metadata": {},
   "source": [
    "<div class=\"alert alert-info alert-warning \">\n",
    "\n",
    "# <span style=\" color:red\"> Laptop Prices Project\n",
    "</span>\n",
    "\n",
    "Welcome to the data analysis assignment on laptop prices! In this assignment, we will work with a dataset containing information about various laptops. The dataset includes several features detailing laptop specifications, such as brand, type, screen size, hardware details, and price. Through this analysis, you will gain hands-on experience in essential data analysis steps, including data cleaning, visualization, and exploratory data analysis (EDA).\n"
   ]
  },
  {
   "cell_type": "markdown",
   "metadata": {},
   "source": [
    "<div class=\"alert alert-block alert-info alert\">\n",
    "\n",
    "## <span style=\" color:red\"> Import Libraries, Loading the Dataset and Initial Exploration\n",
    "- Load the dataset, display first few rows, check the structure of the dataset.\n",
    "\n",
    "- Inspect the data types and missing values using df.info()\n",
    "\n",
    "- Get basic statistics for numerical columns with df.describe()"
   ]
  },
  {
   "cell_type": "code",
   "execution_count": 226,
   "metadata": {},
   "outputs": [],
   "source": [
    "import pandas as pd\n",
    "import numpy as np\n",
    "import matplotlib.pyplot as plt\n",
    "import seaborn as sns\n",
    "import warnings\n",
    "warnings.filterwarnings('ignore')"
   ]
  },
  {
   "cell_type": "code",
   "execution_count": null,
   "metadata": {},
   "outputs": [],
   "source": [
    "#Veri setini yükleyiniz, ilk birkaç satırı görüntüleyerek, veri setinin yapısı hakkında bilgi sahibi olmaya çabalayınız."
   ]
  },
  {
   "cell_type": "code",
   "execution_count": 228,
   "metadata": {},
   "outputs": [],
   "source": [
    "df = pd.read_csv('laptop_data.csv')"
   ]
  },
  {
   "cell_type": "code",
   "execution_count": 230,
   "metadata": {},
   "outputs": [
    {
     "data": {
      "text/html": [
       "<div>\n",
       "<style scoped>\n",
       "    .dataframe tbody tr th:only-of-type {\n",
       "        vertical-align: middle;\n",
       "    }\n",
       "\n",
       "    .dataframe tbody tr th {\n",
       "        vertical-align: top;\n",
       "    }\n",
       "\n",
       "    .dataframe thead th {\n",
       "        text-align: right;\n",
       "    }\n",
       "</style>\n",
       "<table border=\"1\" class=\"dataframe\">\n",
       "  <thead>\n",
       "    <tr style=\"text-align: right;\">\n",
       "      <th></th>\n",
       "      <th>Unnamed: 0</th>\n",
       "      <th>Company</th>\n",
       "      <th>TypeName</th>\n",
       "      <th>Inches</th>\n",
       "      <th>ScreenResolution</th>\n",
       "      <th>Cpu</th>\n",
       "      <th>Ram</th>\n",
       "      <th>Memory</th>\n",
       "      <th>Gpu</th>\n",
       "      <th>OpSys</th>\n",
       "      <th>Weight</th>\n",
       "      <th>Price</th>\n",
       "    </tr>\n",
       "  </thead>\n",
       "  <tbody>\n",
       "    <tr>\n",
       "      <th>0</th>\n",
       "      <td>0</td>\n",
       "      <td>Apple</td>\n",
       "      <td>Ultrabook</td>\n",
       "      <td>13.3</td>\n",
       "      <td>IPS Panel Retina Display 2560x1600</td>\n",
       "      <td>Intel Core i5 2.3GHz</td>\n",
       "      <td>8GB</td>\n",
       "      <td>128GB SSD</td>\n",
       "      <td>Intel Iris Plus Graphics 640</td>\n",
       "      <td>macOS</td>\n",
       "      <td>1.37kg</td>\n",
       "      <td>71378.6832</td>\n",
       "    </tr>\n",
       "    <tr>\n",
       "      <th>1</th>\n",
       "      <td>1</td>\n",
       "      <td>Apple</td>\n",
       "      <td>Ultrabook</td>\n",
       "      <td>13.3</td>\n",
       "      <td>1440x900</td>\n",
       "      <td>Intel Core i5 1.8GHz</td>\n",
       "      <td>8GB</td>\n",
       "      <td>128GB Flash Storage</td>\n",
       "      <td>Intel HD Graphics 6000</td>\n",
       "      <td>macOS</td>\n",
       "      <td>1.34kg</td>\n",
       "      <td>47895.5232</td>\n",
       "    </tr>\n",
       "    <tr>\n",
       "      <th>2</th>\n",
       "      <td>2</td>\n",
       "      <td>HP</td>\n",
       "      <td>Notebook</td>\n",
       "      <td>15.6</td>\n",
       "      <td>Full HD 1920x1080</td>\n",
       "      <td>Intel Core i5 7200U 2.5GHz</td>\n",
       "      <td>8GB</td>\n",
       "      <td>256GB SSD</td>\n",
       "      <td>Intel HD Graphics 620</td>\n",
       "      <td>No OS</td>\n",
       "      <td>1.86kg</td>\n",
       "      <td>30636.0000</td>\n",
       "    </tr>\n",
       "    <tr>\n",
       "      <th>3</th>\n",
       "      <td>3</td>\n",
       "      <td>Apple</td>\n",
       "      <td>Ultrabook</td>\n",
       "      <td>15.4</td>\n",
       "      <td>IPS Panel Retina Display 2880x1800</td>\n",
       "      <td>Intel Core i7 2.7GHz</td>\n",
       "      <td>16GB</td>\n",
       "      <td>512GB SSD</td>\n",
       "      <td>AMD Radeon Pro 455</td>\n",
       "      <td>macOS</td>\n",
       "      <td>1.83kg</td>\n",
       "      <td>135195.3360</td>\n",
       "    </tr>\n",
       "    <tr>\n",
       "      <th>4</th>\n",
       "      <td>4</td>\n",
       "      <td>Apple</td>\n",
       "      <td>Ultrabook</td>\n",
       "      <td>13.3</td>\n",
       "      <td>IPS Panel Retina Display 2560x1600</td>\n",
       "      <td>Intel Core i5 3.1GHz</td>\n",
       "      <td>8GB</td>\n",
       "      <td>256GB SSD</td>\n",
       "      <td>Intel Iris Plus Graphics 650</td>\n",
       "      <td>macOS</td>\n",
       "      <td>1.37kg</td>\n",
       "      <td>96095.8080</td>\n",
       "    </tr>\n",
       "  </tbody>\n",
       "</table>\n",
       "</div>"
      ],
      "text/plain": [
       "   Unnamed: 0 Company   TypeName  Inches                    ScreenResolution  \\\n",
       "0           0   Apple  Ultrabook    13.3  IPS Panel Retina Display 2560x1600   \n",
       "1           1   Apple  Ultrabook    13.3                            1440x900   \n",
       "2           2      HP   Notebook    15.6                   Full HD 1920x1080   \n",
       "3           3   Apple  Ultrabook    15.4  IPS Panel Retina Display 2880x1800   \n",
       "4           4   Apple  Ultrabook    13.3  IPS Panel Retina Display 2560x1600   \n",
       "\n",
       "                          Cpu   Ram               Memory  \\\n",
       "0        Intel Core i5 2.3GHz   8GB            128GB SSD   \n",
       "1        Intel Core i5 1.8GHz   8GB  128GB Flash Storage   \n",
       "2  Intel Core i5 7200U 2.5GHz   8GB            256GB SSD   \n",
       "3        Intel Core i7 2.7GHz  16GB            512GB SSD   \n",
       "4        Intel Core i5 3.1GHz   8GB            256GB SSD   \n",
       "\n",
       "                            Gpu  OpSys  Weight        Price  \n",
       "0  Intel Iris Plus Graphics 640  macOS  1.37kg   71378.6832  \n",
       "1        Intel HD Graphics 6000  macOS  1.34kg   47895.5232  \n",
       "2         Intel HD Graphics 620  No OS  1.86kg   30636.0000  \n",
       "3            AMD Radeon Pro 455  macOS  1.83kg  135195.3360  \n",
       "4  Intel Iris Plus Graphics 650  macOS  1.37kg   96095.8080  "
      ]
     },
     "execution_count": 230,
     "metadata": {},
     "output_type": "execute_result"
    }
   ],
   "source": [
    "df.head()"
   ]
  },
  {
   "cell_type": "markdown",
   "metadata": {},
   "source": [
    "**Unnamed: 0** Sıra numarası.\n",
    "\n",
    "**TypeName:** Laptop çeşidi \n",
    "\n",
    "**Inches:** Laptop ekran boyutu verisi (numeric).\n",
    "\n",
    "**ScreenResolution:** Laptop ekran çözünürlüğü verisi \n",
    "\n",
    "**Cpu:** Merkezi İşlem Birimi verileri \n",
    "\n",
    "**Ram:** Ram bilgisi\n",
    "\n",
    "**Memory:** Hafıza bilgisi \n",
    "\n",
    "**Gpu:** Grafik İşlemci Birimi verisi \n",
    "\n",
    "**OpSys:** İşletim sistemi verisi, Windows, MacOs veya Linux \n",
    "\n",
    "**Weight:** Ağırlık bilgisi \n",
    "\n",
    "**Price:** Fiyat bilgisi "
   ]
  },
  {
   "cell_type": "code",
   "execution_count": null,
   "metadata": {},
   "outputs": [],
   "source": [
    "# df.info() kullanmak suretiyle veri türlerini ve eksik değerleri gözden geçiriniz"
   ]
  },
  {
   "cell_type": "code",
   "execution_count": 232,
   "metadata": {},
   "outputs": [
    {
     "name": "stdout",
     "output_type": "stream",
     "text": [
      "<class 'pandas.core.frame.DataFrame'>\n",
      "RangeIndex: 1303 entries, 0 to 1302\n",
      "Data columns (total 12 columns):\n",
      " #   Column            Non-Null Count  Dtype  \n",
      "---  ------            --------------  -----  \n",
      " 0   Unnamed: 0        1303 non-null   int64  \n",
      " 1   Company           1303 non-null   object \n",
      " 2   TypeName          1303 non-null   object \n",
      " 3   Inches            1303 non-null   float64\n",
      " 4   ScreenResolution  1303 non-null   object \n",
      " 5   Cpu               1303 non-null   object \n",
      " 6   Ram               1303 non-null   object \n",
      " 7   Memory            1303 non-null   object \n",
      " 8   Gpu               1303 non-null   object \n",
      " 9   OpSys             1303 non-null   object \n",
      " 10  Weight            1303 non-null   object \n",
      " 11  Price             1303 non-null   float64\n",
      "dtypes: float64(2), int64(1), object(9)\n",
      "memory usage: 122.3+ KB\n"
     ]
    }
   ],
   "source": [
    "df.info()"
   ]
  },
  {
   "cell_type": "code",
   "execution_count": null,
   "metadata": {},
   "outputs": [],
   "source": [
    "# df.describe() ile sayısal sütunlar için temel istatistikleri elde ediniz."
   ]
  },
  {
   "cell_type": "code",
   "execution_count": 234,
   "metadata": {},
   "outputs": [
    {
     "data": {
      "text/html": [
       "<div>\n",
       "<style scoped>\n",
       "    .dataframe tbody tr th:only-of-type {\n",
       "        vertical-align: middle;\n",
       "    }\n",
       "\n",
       "    .dataframe tbody tr th {\n",
       "        vertical-align: top;\n",
       "    }\n",
       "\n",
       "    .dataframe thead th {\n",
       "        text-align: right;\n",
       "    }\n",
       "</style>\n",
       "<table border=\"1\" class=\"dataframe\">\n",
       "  <thead>\n",
       "    <tr style=\"text-align: right;\">\n",
       "      <th></th>\n",
       "      <th>count</th>\n",
       "      <th>mean</th>\n",
       "      <th>std</th>\n",
       "      <th>min</th>\n",
       "      <th>25%</th>\n",
       "      <th>50%</th>\n",
       "      <th>75%</th>\n",
       "      <th>max</th>\n",
       "    </tr>\n",
       "  </thead>\n",
       "  <tbody>\n",
       "    <tr>\n",
       "      <th>Unnamed: 0</th>\n",
       "      <td>1303.0</td>\n",
       "      <td>651.000000</td>\n",
       "      <td>376.288010</td>\n",
       "      <td>0.00</td>\n",
       "      <td>325.50</td>\n",
       "      <td>651.00</td>\n",
       "      <td>976.5000</td>\n",
       "      <td>1302.00</td>\n",
       "    </tr>\n",
       "    <tr>\n",
       "      <th>Inches</th>\n",
       "      <td>1303.0</td>\n",
       "      <td>15.017191</td>\n",
       "      <td>1.426304</td>\n",
       "      <td>10.10</td>\n",
       "      <td>14.00</td>\n",
       "      <td>15.60</td>\n",
       "      <td>15.6000</td>\n",
       "      <td>18.40</td>\n",
       "    </tr>\n",
       "    <tr>\n",
       "      <th>Price</th>\n",
       "      <td>1303.0</td>\n",
       "      <td>59870.042910</td>\n",
       "      <td>37243.201786</td>\n",
       "      <td>9270.72</td>\n",
       "      <td>31914.72</td>\n",
       "      <td>52054.56</td>\n",
       "      <td>79274.2464</td>\n",
       "      <td>324954.72</td>\n",
       "    </tr>\n",
       "  </tbody>\n",
       "</table>\n",
       "</div>"
      ],
      "text/plain": [
       "             count          mean           std      min       25%       50%  \\\n",
       "Unnamed: 0  1303.0    651.000000    376.288010     0.00    325.50    651.00   \n",
       "Inches      1303.0     15.017191      1.426304    10.10     14.00     15.60   \n",
       "Price       1303.0  59870.042910  37243.201786  9270.72  31914.72  52054.56   \n",
       "\n",
       "                   75%        max  \n",
       "Unnamed: 0    976.5000    1302.00  \n",
       "Inches         15.6000      18.40  \n",
       "Price       79274.2464  324954.72  "
      ]
     },
     "execution_count": 234,
     "metadata": {},
     "output_type": "execute_result"
    }
   ],
   "source": [
    "df.describe().T"
   ]
  },
  {
   "cell_type": "markdown",
   "metadata": {},
   "source": [
    "<div class=\"alert alert-block alert-info alert\">\n",
    "\n",
    "## <span style=\" color:red\"> Data Cleaning: \n",
    "</span>\n",
    "\n",
    "- Handle missing values.\n",
    "\n",
    "- Check for duplicates and remove them if found.\n",
    "\n",
    "- Standardize column names (if necessary) for consistent naming conventions.\n",
    "\n",
    "- Validate data types and convert columns to appropriate types if needed."
   ]
  },
  {
   "cell_type": "code",
   "execution_count": null,
   "metadata": {},
   "outputs": [],
   "source": [
    "# Handle missing values. Eksik değerleri kontrol ediniz."
   ]
  },
  {
   "cell_type": "code",
   "execution_count": 236,
   "metadata": {},
   "outputs": [
    {
     "data": {
      "text/html": [
       "<div>\n",
       "<style scoped>\n",
       "    .dataframe tbody tr th:only-of-type {\n",
       "        vertical-align: middle;\n",
       "    }\n",
       "\n",
       "    .dataframe tbody tr th {\n",
       "        vertical-align: top;\n",
       "    }\n",
       "\n",
       "    .dataframe thead th {\n",
       "        text-align: right;\n",
       "    }\n",
       "</style>\n",
       "<table border=\"1\" class=\"dataframe\">\n",
       "  <thead>\n",
       "    <tr style=\"text-align: right;\">\n",
       "      <th></th>\n",
       "      <th>Unnamed: 0</th>\n",
       "      <th>Company</th>\n",
       "      <th>TypeName</th>\n",
       "      <th>Inches</th>\n",
       "      <th>ScreenResolution</th>\n",
       "      <th>Cpu</th>\n",
       "      <th>Ram</th>\n",
       "      <th>Memory</th>\n",
       "      <th>Gpu</th>\n",
       "      <th>OpSys</th>\n",
       "      <th>Weight</th>\n",
       "      <th>Price</th>\n",
       "    </tr>\n",
       "  </thead>\n",
       "  <tbody>\n",
       "    <tr>\n",
       "      <th>0</th>\n",
       "      <td>False</td>\n",
       "      <td>False</td>\n",
       "      <td>False</td>\n",
       "      <td>False</td>\n",
       "      <td>False</td>\n",
       "      <td>False</td>\n",
       "      <td>False</td>\n",
       "      <td>False</td>\n",
       "      <td>False</td>\n",
       "      <td>False</td>\n",
       "      <td>False</td>\n",
       "      <td>False</td>\n",
       "    </tr>\n",
       "    <tr>\n",
       "      <th>1</th>\n",
       "      <td>False</td>\n",
       "      <td>False</td>\n",
       "      <td>False</td>\n",
       "      <td>False</td>\n",
       "      <td>False</td>\n",
       "      <td>False</td>\n",
       "      <td>False</td>\n",
       "      <td>False</td>\n",
       "      <td>False</td>\n",
       "      <td>False</td>\n",
       "      <td>False</td>\n",
       "      <td>False</td>\n",
       "    </tr>\n",
       "    <tr>\n",
       "      <th>2</th>\n",
       "      <td>False</td>\n",
       "      <td>False</td>\n",
       "      <td>False</td>\n",
       "      <td>False</td>\n",
       "      <td>False</td>\n",
       "      <td>False</td>\n",
       "      <td>False</td>\n",
       "      <td>False</td>\n",
       "      <td>False</td>\n",
       "      <td>False</td>\n",
       "      <td>False</td>\n",
       "      <td>False</td>\n",
       "    </tr>\n",
       "    <tr>\n",
       "      <th>3</th>\n",
       "      <td>False</td>\n",
       "      <td>False</td>\n",
       "      <td>False</td>\n",
       "      <td>False</td>\n",
       "      <td>False</td>\n",
       "      <td>False</td>\n",
       "      <td>False</td>\n",
       "      <td>False</td>\n",
       "      <td>False</td>\n",
       "      <td>False</td>\n",
       "      <td>False</td>\n",
       "      <td>False</td>\n",
       "    </tr>\n",
       "    <tr>\n",
       "      <th>4</th>\n",
       "      <td>False</td>\n",
       "      <td>False</td>\n",
       "      <td>False</td>\n",
       "      <td>False</td>\n",
       "      <td>False</td>\n",
       "      <td>False</td>\n",
       "      <td>False</td>\n",
       "      <td>False</td>\n",
       "      <td>False</td>\n",
       "      <td>False</td>\n",
       "      <td>False</td>\n",
       "      <td>False</td>\n",
       "    </tr>\n",
       "    <tr>\n",
       "      <th>...</th>\n",
       "      <td>...</td>\n",
       "      <td>...</td>\n",
       "      <td>...</td>\n",
       "      <td>...</td>\n",
       "      <td>...</td>\n",
       "      <td>...</td>\n",
       "      <td>...</td>\n",
       "      <td>...</td>\n",
       "      <td>...</td>\n",
       "      <td>...</td>\n",
       "      <td>...</td>\n",
       "      <td>...</td>\n",
       "    </tr>\n",
       "    <tr>\n",
       "      <th>1298</th>\n",
       "      <td>False</td>\n",
       "      <td>False</td>\n",
       "      <td>False</td>\n",
       "      <td>False</td>\n",
       "      <td>False</td>\n",
       "      <td>False</td>\n",
       "      <td>False</td>\n",
       "      <td>False</td>\n",
       "      <td>False</td>\n",
       "      <td>False</td>\n",
       "      <td>False</td>\n",
       "      <td>False</td>\n",
       "    </tr>\n",
       "    <tr>\n",
       "      <th>1299</th>\n",
       "      <td>False</td>\n",
       "      <td>False</td>\n",
       "      <td>False</td>\n",
       "      <td>False</td>\n",
       "      <td>False</td>\n",
       "      <td>False</td>\n",
       "      <td>False</td>\n",
       "      <td>False</td>\n",
       "      <td>False</td>\n",
       "      <td>False</td>\n",
       "      <td>False</td>\n",
       "      <td>False</td>\n",
       "    </tr>\n",
       "    <tr>\n",
       "      <th>1300</th>\n",
       "      <td>False</td>\n",
       "      <td>False</td>\n",
       "      <td>False</td>\n",
       "      <td>False</td>\n",
       "      <td>False</td>\n",
       "      <td>False</td>\n",
       "      <td>False</td>\n",
       "      <td>False</td>\n",
       "      <td>False</td>\n",
       "      <td>False</td>\n",
       "      <td>False</td>\n",
       "      <td>False</td>\n",
       "    </tr>\n",
       "    <tr>\n",
       "      <th>1301</th>\n",
       "      <td>False</td>\n",
       "      <td>False</td>\n",
       "      <td>False</td>\n",
       "      <td>False</td>\n",
       "      <td>False</td>\n",
       "      <td>False</td>\n",
       "      <td>False</td>\n",
       "      <td>False</td>\n",
       "      <td>False</td>\n",
       "      <td>False</td>\n",
       "      <td>False</td>\n",
       "      <td>False</td>\n",
       "    </tr>\n",
       "    <tr>\n",
       "      <th>1302</th>\n",
       "      <td>False</td>\n",
       "      <td>False</td>\n",
       "      <td>False</td>\n",
       "      <td>False</td>\n",
       "      <td>False</td>\n",
       "      <td>False</td>\n",
       "      <td>False</td>\n",
       "      <td>False</td>\n",
       "      <td>False</td>\n",
       "      <td>False</td>\n",
       "      <td>False</td>\n",
       "      <td>False</td>\n",
       "    </tr>\n",
       "  </tbody>\n",
       "</table>\n",
       "<p>1303 rows × 12 columns</p>\n",
       "</div>"
      ],
      "text/plain": [
       "      Unnamed: 0  Company  TypeName  Inches  ScreenResolution    Cpu    Ram  \\\n",
       "0          False    False     False   False             False  False  False   \n",
       "1          False    False     False   False             False  False  False   \n",
       "2          False    False     False   False             False  False  False   \n",
       "3          False    False     False   False             False  False  False   \n",
       "4          False    False     False   False             False  False  False   \n",
       "...          ...      ...       ...     ...               ...    ...    ...   \n",
       "1298       False    False     False   False             False  False  False   \n",
       "1299       False    False     False   False             False  False  False   \n",
       "1300       False    False     False   False             False  False  False   \n",
       "1301       False    False     False   False             False  False  False   \n",
       "1302       False    False     False   False             False  False  False   \n",
       "\n",
       "      Memory    Gpu  OpSys  Weight  Price  \n",
       "0      False  False  False   False  False  \n",
       "1      False  False  False   False  False  \n",
       "2      False  False  False   False  False  \n",
       "3      False  False  False   False  False  \n",
       "4      False  False  False   False  False  \n",
       "...      ...    ...    ...     ...    ...  \n",
       "1298   False  False  False   False  False  \n",
       "1299   False  False  False   False  False  \n",
       "1300   False  False  False   False  False  \n",
       "1301   False  False  False   False  False  \n",
       "1302   False  False  False   False  False  \n",
       "\n",
       "[1303 rows x 12 columns]"
      ]
     },
     "execution_count": 236,
     "metadata": {},
     "output_type": "execute_result"
    }
   ],
   "source": [
    "df.isnull()"
   ]
  },
  {
   "cell_type": "code",
   "execution_count": 238,
   "metadata": {},
   "outputs": [
    {
     "data": {
      "text/plain": [
       "Unnamed: 0          0\n",
       "Company             0\n",
       "TypeName            0\n",
       "Inches              0\n",
       "ScreenResolution    0\n",
       "Cpu                 0\n",
       "Ram                 0\n",
       "Memory              0\n",
       "Gpu                 0\n",
       "OpSys               0\n",
       "Weight              0\n",
       "Price               0\n",
       "dtype: int64"
      ]
     },
     "execution_count": 238,
     "metadata": {},
     "output_type": "execute_result"
    }
   ],
   "source": [
    "df.isnull().sum()"
   ]
  },
  {
   "cell_type": "code",
   "execution_count": 241,
   "metadata": {},
   "outputs": [
    {
     "data": {
      "image/png": "[encoded data removed]",
      "text/plain": [
       "<Figure size 640x480 with 1 Axes>"
      ]
     },
     "metadata": {},
     "output_type": "display_data"
    }
   ],
   "source": [
    "sns.heatmap(df.isnull(),cmap = 'Blues',cbar = False);"
   ]
  },
  {
   "cell_type": "code",
   "execution_count": 26,
   "metadata": {},
   "outputs": [],
   "source": [
    "# Veri dosyamızda eksik 'null' değer bulunmamaktadır. "
   ]
  },
  {
   "cell_type": "markdown",
   "metadata": {},
   "source": [
    "<div class=\"alert alert-block alert-success\">\n",
    "\n",
    "### <span style=\" color:red\"> Remove unnecessary columns:\n",
    "</span>\n",
    "\n",
    "- Drop the Unnamed: 0 column as it seems to be an index column."
   ]
  },
  {
   "cell_type": "code",
   "execution_count": 253,
   "metadata": {},
   "outputs": [
    {
     "data": {
      "text/html": [
       "<div>\n",
       "<style scoped>\n",
       "    .dataframe tbody tr th:only-of-type {\n",
       "        vertical-align: middle;\n",
       "    }\n",
       "\n",
       "    .dataframe tbody tr th {\n",
       "        vertical-align: top;\n",
       "    }\n",
       "\n",
       "    .dataframe thead th {\n",
       "        text-align: right;\n",
       "    }\n",
       "</style>\n",
       "<table border=\"1\" class=\"dataframe\">\n",
       "  <thead>\n",
       "    <tr style=\"text-align: right;\">\n",
       "      <th></th>\n",
       "      <th>Company</th>\n",
       "      <th>TypeName</th>\n",
       "      <th>Inches</th>\n",
       "      <th>ScreenResolution</th>\n",
       "      <th>Cpu</th>\n",
       "      <th>Ram</th>\n",
       "      <th>Memory</th>\n",
       "      <th>Gpu</th>\n",
       "      <th>OpSys</th>\n",
       "      <th>Weight</th>\n",
       "      <th>Price</th>\n",
       "    </tr>\n",
       "  </thead>\n",
       "  <tbody>\n",
       "    <tr>\n",
       "      <th>0</th>\n",
       "      <td>Apple</td>\n",
       "      <td>Ultrabook</td>\n",
       "      <td>13.3</td>\n",
       "      <td>IPS Panel Retina Display 2560x1600</td>\n",
       "      <td>Intel Core i5 2.3GHz</td>\n",
       "      <td>8GB</td>\n",
       "      <td>128GB SSD</td>\n",
       "      <td>Intel Iris Plus Graphics 640</td>\n",
       "      <td>macOS</td>\n",
       "      <td>1.37kg</td>\n",
       "      <td>71378.6832</td>\n",
       "    </tr>\n",
       "    <tr>\n",
       "      <th>1</th>\n",
       "      <td>Apple</td>\n",
       "      <td>Ultrabook</td>\n",
       "      <td>13.3</td>\n",
       "      <td>1440x900</td>\n",
       "      <td>Intel Core i5 1.8GHz</td>\n",
       "      <td>8GB</td>\n",
       "      <td>128GB Flash Storage</td>\n",
       "      <td>Intel HD Graphics 6000</td>\n",
       "      <td>macOS</td>\n",
       "      <td>1.34kg</td>\n",
       "      <td>47895.5232</td>\n",
       "    </tr>\n",
       "    <tr>\n",
       "      <th>2</th>\n",
       "      <td>HP</td>\n",
       "      <td>Notebook</td>\n",
       "      <td>15.6</td>\n",
       "      <td>Full HD 1920x1080</td>\n",
       "      <td>Intel Core i5 7200U 2.5GHz</td>\n",
       "      <td>8GB</td>\n",
       "      <td>256GB SSD</td>\n",
       "      <td>Intel HD Graphics 620</td>\n",
       "      <td>No OS</td>\n",
       "      <td>1.86kg</td>\n",
       "      <td>30636.0000</td>\n",
       "    </tr>\n",
       "  </tbody>\n",
       "</table>\n",
       "</div>"
      ],
      "text/plain": [
       "  Company   TypeName  Inches                    ScreenResolution  \\\n",
       "0   Apple  Ultrabook    13.3  IPS Panel Retina Display 2560x1600   \n",
       "1   Apple  Ultrabook    13.3                            1440x900   \n",
       "2      HP   Notebook    15.6                   Full HD 1920x1080   \n",
       "\n",
       "                          Cpu  Ram               Memory  \\\n",
       "0        Intel Core i5 2.3GHz  8GB            128GB SSD   \n",
       "1        Intel Core i5 1.8GHz  8GB  128GB Flash Storage   \n",
       "2  Intel Core i5 7200U 2.5GHz  8GB            256GB SSD   \n",
       "\n",
       "                            Gpu  OpSys  Weight       Price  \n",
       "0  Intel Iris Plus Graphics 640  macOS  1.37kg  71378.6832  \n",
       "1        Intel HD Graphics 6000  macOS  1.34kg  47895.5232  \n",
       "2         Intel HD Graphics 620  No OS  1.86kg  30636.0000  "
      ]
     },
     "execution_count": 253,
     "metadata": {},
     "output_type": "execute_result"
    }
   ],
   "source": [
    "df_dropped = df.drop('Unnamed: 0', axis = 1)\n",
    "df_dropped.head(3)"
   ]
  },
  {
   "cell_type": "markdown",
   "metadata": {},
   "source": [
    "<div class=\"alert alert-block alert-success\">\n",
    "\n",
    "### <span style=\" color:red\"> Check for duplicates and missing values:\n",
    "\n",
    "- Identify and remove any duplicate rows from the dataset.\n",
    "\n",
    "- Check for missing values in the dataset."
   ]
  },
  {
   "cell_type": "code",
   "execution_count": 255,
   "metadata": {},
   "outputs": [
    {
     "data": {
      "text/plain": [
       "29"
      ]
     },
     "execution_count": 255,
     "metadata": {},
     "output_type": "execute_result"
    }
   ],
   "source": [
    "df_dropped.duplicated().sum()"
   ]
  },
  {
   "cell_type": "code",
   "execution_count": null,
   "metadata": {},
   "outputs": [],
   "source": [
    "# Duplicated, duplike veya birbirinin birebir aynı kopyası satır 29 adet bulunmaktadır. "
   ]
  },
  {
   "cell_type": "code",
   "execution_count": 257,
   "metadata": {},
   "outputs": [
    {
     "data": {
      "text/plain": [
       "0       False\n",
       "1       False\n",
       "2       False\n",
       "3       False\n",
       "4       False\n",
       "        ...  \n",
       "1298     True\n",
       "1299     True\n",
       "1300     True\n",
       "1301     True\n",
       "1302     True\n",
       "Length: 1303, dtype: bool"
      ]
     },
     "execution_count": 257,
     "metadata": {},
     "output_type": "execute_result"
    }
   ],
   "source": [
    "df_dropped.duplicated()"
   ]
  },
  {
   "cell_type": "code",
   "execution_count": 37,
   "metadata": {},
   "outputs": [],
   "source": [
    "## Duplicated (kopya) yani birbirinin aynı satır verisetinde 29 adet bulunmaktadır. Remove işlemi yapılmıştır.  "
   ]
  },
  {
   "cell_type": "code",
   "execution_count": 357,
   "metadata": {},
   "outputs": [
    {
     "data": {
      "text/html": [
       "<div>\n",
       "<style scoped>\n",
       "    .dataframe tbody tr th:only-of-type {\n",
       "        vertical-align: middle;\n",
       "    }\n",
       "\n",
       "    .dataframe tbody tr th {\n",
       "        vertical-align: top;\n",
       "    }\n",
       "\n",
       "    .dataframe thead th {\n",
       "        text-align: right;\n",
       "    }\n",
       "</style>\n",
       "<table border=\"1\" class=\"dataframe\">\n",
       "  <thead>\n",
       "    <tr style=\"text-align: right;\">\n",
       "      <th></th>\n",
       "      <th>Company</th>\n",
       "      <th>TypeName</th>\n",
       "      <th>Inches</th>\n",
       "      <th>ScreenResolution</th>\n",
       "      <th>Cpu</th>\n",
       "      <th>Ram</th>\n",
       "      <th>Memory</th>\n",
       "      <th>Gpu</th>\n",
       "      <th>OpSys</th>\n",
       "      <th>Weight</th>\n",
       "      <th>Price</th>\n",
       "    </tr>\n",
       "  </thead>\n",
       "  <tbody>\n",
       "    <tr>\n",
       "      <th>0</th>\n",
       "      <td>Apple</td>\n",
       "      <td>Ultrabook</td>\n",
       "      <td>13.3</td>\n",
       "      <td>IPS Panel Retina Display 2560x1600</td>\n",
       "      <td>Intel Core i5 2.3GHz</td>\n",
       "      <td>8GB</td>\n",
       "      <td>128GB SSD</td>\n",
       "      <td>Intel Iris Plus Graphics 640</td>\n",
       "      <td>macOS</td>\n",
       "      <td>1.37kg</td>\n",
       "      <td>71378.6832</td>\n",
       "    </tr>\n",
       "    <tr>\n",
       "      <th>1</th>\n",
       "      <td>Apple</td>\n",
       "      <td>Ultrabook</td>\n",
       "      <td>13.3</td>\n",
       "      <td>1440x900</td>\n",
       "      <td>Intel Core i5 1.8GHz</td>\n",
       "      <td>8GB</td>\n",
       "      <td>128GB Flash Storage</td>\n",
       "      <td>Intel HD Graphics 6000</td>\n",
       "      <td>macOS</td>\n",
       "      <td>1.34kg</td>\n",
       "      <td>47895.5232</td>\n",
       "    </tr>\n",
       "    <tr>\n",
       "      <th>2</th>\n",
       "      <td>HP</td>\n",
       "      <td>Notebook</td>\n",
       "      <td>15.6</td>\n",
       "      <td>Full HD 1920x1080</td>\n",
       "      <td>Intel Core i5 7200U 2.5GHz</td>\n",
       "      <td>8GB</td>\n",
       "      <td>256GB SSD</td>\n",
       "      <td>Intel HD Graphics 620</td>\n",
       "      <td>No OS</td>\n",
       "      <td>1.86kg</td>\n",
       "      <td>30636.0000</td>\n",
       "    </tr>\n",
       "    <tr>\n",
       "      <th>3</th>\n",
       "      <td>Apple</td>\n",
       "      <td>Ultrabook</td>\n",
       "      <td>15.4</td>\n",
       "      <td>IPS Panel Retina Display 2880x1800</td>\n",
       "      <td>Intel Core i7 2.7GHz</td>\n",
       "      <td>16GB</td>\n",
       "      <td>512GB SSD</td>\n",
       "      <td>AMD Radeon Pro 455</td>\n",
       "      <td>macOS</td>\n",
       "      <td>1.83kg</td>\n",
       "      <td>135195.3360</td>\n",
       "    </tr>\n",
       "    <tr>\n",
       "      <th>4</th>\n",
       "      <td>Apple</td>\n",
       "      <td>Ultrabook</td>\n",
       "      <td>13.3</td>\n",
       "      <td>IPS Panel Retina Display 2560x1600</td>\n",
       "      <td>Intel Core i5 3.1GHz</td>\n",
       "      <td>8GB</td>\n",
       "      <td>256GB SSD</td>\n",
       "      <td>Intel Iris Plus Graphics 650</td>\n",
       "      <td>macOS</td>\n",
       "      <td>1.37kg</td>\n",
       "      <td>96095.8080</td>\n",
       "    </tr>\n",
       "    <tr>\n",
       "      <th>...</th>\n",
       "      <td>...</td>\n",
       "      <td>...</td>\n",
       "      <td>...</td>\n",
       "      <td>...</td>\n",
       "      <td>...</td>\n",
       "      <td>...</td>\n",
       "      <td>...</td>\n",
       "      <td>...</td>\n",
       "      <td>...</td>\n",
       "      <td>...</td>\n",
       "      <td>...</td>\n",
       "    </tr>\n",
       "    <tr>\n",
       "      <th>1269</th>\n",
       "      <td>Asus</td>\n",
       "      <td>Notebook</td>\n",
       "      <td>15.6</td>\n",
       "      <td>1366x768</td>\n",
       "      <td>Intel Core i7 6500U 2.5GHz</td>\n",
       "      <td>4GB</td>\n",
       "      <td>500GB HDD</td>\n",
       "      <td>Nvidia GeForce 920M</td>\n",
       "      <td>Windows 10</td>\n",
       "      <td>2.2kg</td>\n",
       "      <td>38378.6496</td>\n",
       "    </tr>\n",
       "    <tr>\n",
       "      <th>1270</th>\n",
       "      <td>Lenovo</td>\n",
       "      <td>2 in 1 Convertible</td>\n",
       "      <td>14.0</td>\n",
       "      <td>IPS Panel Full HD / Touchscreen 1920x1080</td>\n",
       "      <td>Intel Core i7 6500U 2.5GHz</td>\n",
       "      <td>4GB</td>\n",
       "      <td>128GB SSD</td>\n",
       "      <td>Intel HD Graphics 520</td>\n",
       "      <td>Windows 10</td>\n",
       "      <td>1.8kg</td>\n",
       "      <td>33992.6400</td>\n",
       "    </tr>\n",
       "    <tr>\n",
       "      <th>1271</th>\n",
       "      <td>Lenovo</td>\n",
       "      <td>2 in 1 Convertible</td>\n",
       "      <td>13.3</td>\n",
       "      <td>IPS Panel Quad HD+ / Touchscreen 3200x1800</td>\n",
       "      <td>Intel Core i7 6500U 2.5GHz</td>\n",
       "      <td>16GB</td>\n",
       "      <td>512GB SSD</td>\n",
       "      <td>Intel HD Graphics 520</td>\n",
       "      <td>Windows 10</td>\n",
       "      <td>1.3kg</td>\n",
       "      <td>79866.7200</td>\n",
       "    </tr>\n",
       "    <tr>\n",
       "      <th>1272</th>\n",
       "      <td>Lenovo</td>\n",
       "      <td>Notebook</td>\n",
       "      <td>14.0</td>\n",
       "      <td>1366x768</td>\n",
       "      <td>Intel Celeron Dual Core N3050 1.6GHz</td>\n",
       "      <td>2GB</td>\n",
       "      <td>64GB Flash Storage</td>\n",
       "      <td>Intel HD Graphics</td>\n",
       "      <td>Windows 10</td>\n",
       "      <td>1.5kg</td>\n",
       "      <td>12201.1200</td>\n",
       "    </tr>\n",
       "    <tr>\n",
       "      <th>1273</th>\n",
       "      <td>HP</td>\n",
       "      <td>Notebook</td>\n",
       "      <td>15.6</td>\n",
       "      <td>1366x768</td>\n",
       "      <td>Intel Core i7 6500U 2.5GHz</td>\n",
       "      <td>6GB</td>\n",
       "      <td>1TB HDD</td>\n",
       "      <td>AMD Radeon R5 M330</td>\n",
       "      <td>Windows 10</td>\n",
       "      <td>2.19kg</td>\n",
       "      <td>40705.9200</td>\n",
       "    </tr>\n",
       "  </tbody>\n",
       "</table>\n",
       "<p>1274 rows × 11 columns</p>\n",
       "</div>"
      ],
      "text/plain": [
       "     Company            TypeName  Inches  \\\n",
       "0      Apple           Ultrabook    13.3   \n",
       "1      Apple           Ultrabook    13.3   \n",
       "2         HP            Notebook    15.6   \n",
       "3      Apple           Ultrabook    15.4   \n",
       "4      Apple           Ultrabook    13.3   \n",
       "...      ...                 ...     ...   \n",
       "1269    Asus            Notebook    15.6   \n",
       "1270  Lenovo  2 in 1 Convertible    14.0   \n",
       "1271  Lenovo  2 in 1 Convertible    13.3   \n",
       "1272  Lenovo            Notebook    14.0   \n",
       "1273      HP            Notebook    15.6   \n",
       "\n",
       "                                ScreenResolution  \\\n",
       "0             IPS Panel Retina Display 2560x1600   \n",
       "1                                       1440x900   \n",
       "2                              Full HD 1920x1080   \n",
       "3             IPS Panel Retina Display 2880x1800   \n",
       "4             IPS Panel Retina Display 2560x1600   \n",
       "...                                          ...   \n",
       "1269                                    1366x768   \n",
       "1270   IPS Panel Full HD / Touchscreen 1920x1080   \n",
       "1271  IPS Panel Quad HD+ / Touchscreen 3200x1800   \n",
       "1272                                    1366x768   \n",
       "1273                                    1366x768   \n",
       "\n",
       "                                       Cpu   Ram               Memory  \\\n",
       "0                     Intel Core i5 2.3GHz   8GB            128GB SSD   \n",
       "1                     Intel Core i5 1.8GHz   8GB  128GB Flash Storage   \n",
       "2               Intel Core i5 7200U 2.5GHz   8GB            256GB SSD   \n",
       "3                     Intel Core i7 2.7GHz  16GB            512GB SSD   \n",
       "4                     Intel Core i5 3.1GHz   8GB            256GB SSD   \n",
       "...                                    ...   ...                  ...   \n",
       "1269            Intel Core i7 6500U 2.5GHz   4GB            500GB HDD   \n",
       "1270            Intel Core i7 6500U 2.5GHz   4GB            128GB SSD   \n",
       "1271            Intel Core i7 6500U 2.5GHz  16GB            512GB SSD   \n",
       "1272  Intel Celeron Dual Core N3050 1.6GHz   2GB   64GB Flash Storage   \n",
       "1273            Intel Core i7 6500U 2.5GHz   6GB              1TB HDD   \n",
       "\n",
       "                               Gpu       OpSys  Weight        Price  \n",
       "0     Intel Iris Plus Graphics 640       macOS  1.37kg   71378.6832  \n",
       "1           Intel HD Graphics 6000       macOS  1.34kg   47895.5232  \n",
       "2            Intel HD Graphics 620       No OS  1.86kg   30636.0000  \n",
       "3               AMD Radeon Pro 455       macOS  1.83kg  135195.3360  \n",
       "4     Intel Iris Plus Graphics 650       macOS  1.37kg   96095.8080  \n",
       "...                            ...         ...     ...          ...  \n",
       "1269           Nvidia GeForce 920M  Windows 10   2.2kg   38378.6496  \n",
       "1270         Intel HD Graphics 520  Windows 10   1.8kg   33992.6400  \n",
       "1271         Intel HD Graphics 520  Windows 10   1.3kg   79866.7200  \n",
       "1272             Intel HD Graphics  Windows 10   1.5kg   12201.1200  \n",
       "1273            AMD Radeon R5 M330  Windows 10  2.19kg   40705.9200  \n",
       "\n",
       "[1274 rows x 11 columns]"
      ]
     },
     "execution_count": 357,
     "metadata": {},
     "output_type": "execute_result"
    }
   ],
   "source": [
    "df5= df_dropped.drop_duplicates()\n",
    "df5"
   ]
  },
  {
   "cell_type": "code",
   "execution_count": null,
   "metadata": {},
   "outputs": [],
   "source": [
    "# Kopya veriler silinmiştir. Veriseti 1303 satırdan, 1274 satıra düşmüştür.  "
   ]
  },
  {
   "cell_type": "code",
   "execution_count": 359,
   "metadata": {},
   "outputs": [
    {
     "data": {
      "text/html": [
       "<div>\n",
       "<style scoped>\n",
       "    .dataframe tbody tr th:only-of-type {\n",
       "        vertical-align: middle;\n",
       "    }\n",
       "\n",
       "    .dataframe tbody tr th {\n",
       "        vertical-align: top;\n",
       "    }\n",
       "\n",
       "    .dataframe thead th {\n",
       "        text-align: right;\n",
       "    }\n",
       "</style>\n",
       "<table border=\"1\" class=\"dataframe\">\n",
       "  <thead>\n",
       "    <tr style=\"text-align: right;\">\n",
       "      <th></th>\n",
       "      <th>Company</th>\n",
       "      <th>TypeName</th>\n",
       "      <th>Inches</th>\n",
       "      <th>ScreenResolution</th>\n",
       "      <th>Cpu</th>\n",
       "      <th>Ram</th>\n",
       "      <th>Memory</th>\n",
       "      <th>Gpu</th>\n",
       "      <th>OpSys</th>\n",
       "      <th>Weight</th>\n",
       "      <th>Price</th>\n",
       "    </tr>\n",
       "  </thead>\n",
       "  <tbody>\n",
       "    <tr>\n",
       "      <th>0</th>\n",
       "      <td>False</td>\n",
       "      <td>False</td>\n",
       "      <td>False</td>\n",
       "      <td>False</td>\n",
       "      <td>False</td>\n",
       "      <td>False</td>\n",
       "      <td>False</td>\n",
       "      <td>False</td>\n",
       "      <td>False</td>\n",
       "      <td>False</td>\n",
       "      <td>False</td>\n",
       "    </tr>\n",
       "    <tr>\n",
       "      <th>1</th>\n",
       "      <td>False</td>\n",
       "      <td>False</td>\n",
       "      <td>False</td>\n",
       "      <td>False</td>\n",
       "      <td>False</td>\n",
       "      <td>False</td>\n",
       "      <td>False</td>\n",
       "      <td>False</td>\n",
       "      <td>False</td>\n",
       "      <td>False</td>\n",
       "      <td>False</td>\n",
       "    </tr>\n",
       "    <tr>\n",
       "      <th>2</th>\n",
       "      <td>False</td>\n",
       "      <td>False</td>\n",
       "      <td>False</td>\n",
       "      <td>False</td>\n",
       "      <td>False</td>\n",
       "      <td>False</td>\n",
       "      <td>False</td>\n",
       "      <td>False</td>\n",
       "      <td>False</td>\n",
       "      <td>False</td>\n",
       "      <td>False</td>\n",
       "    </tr>\n",
       "    <tr>\n",
       "      <th>3</th>\n",
       "      <td>False</td>\n",
       "      <td>False</td>\n",
       "      <td>False</td>\n",
       "      <td>False</td>\n",
       "      <td>False</td>\n",
       "      <td>False</td>\n",
       "      <td>False</td>\n",
       "      <td>False</td>\n",
       "      <td>False</td>\n",
       "      <td>False</td>\n",
       "      <td>False</td>\n",
       "    </tr>\n",
       "    <tr>\n",
       "      <th>4</th>\n",
       "      <td>False</td>\n",
       "      <td>False</td>\n",
       "      <td>False</td>\n",
       "      <td>False</td>\n",
       "      <td>False</td>\n",
       "      <td>False</td>\n",
       "      <td>False</td>\n",
       "      <td>False</td>\n",
       "      <td>False</td>\n",
       "      <td>False</td>\n",
       "      <td>False</td>\n",
       "    </tr>\n",
       "    <tr>\n",
       "      <th>...</th>\n",
       "      <td>...</td>\n",
       "      <td>...</td>\n",
       "      <td>...</td>\n",
       "      <td>...</td>\n",
       "      <td>...</td>\n",
       "      <td>...</td>\n",
       "      <td>...</td>\n",
       "      <td>...</td>\n",
       "      <td>...</td>\n",
       "      <td>...</td>\n",
       "      <td>...</td>\n",
       "    </tr>\n",
       "    <tr>\n",
       "      <th>1269</th>\n",
       "      <td>False</td>\n",
       "      <td>False</td>\n",
       "      <td>False</td>\n",
       "      <td>False</td>\n",
       "      <td>False</td>\n",
       "      <td>False</td>\n",
       "      <td>False</td>\n",
       "      <td>False</td>\n",
       "      <td>False</td>\n",
       "      <td>False</td>\n",
       "      <td>False</td>\n",
       "    </tr>\n",
       "    <tr>\n",
       "      <th>1270</th>\n",
       "      <td>False</td>\n",
       "      <td>False</td>\n",
       "      <td>False</td>\n",
       "      <td>False</td>\n",
       "      <td>False</td>\n",
       "      <td>False</td>\n",
       "      <td>False</td>\n",
       "      <td>False</td>\n",
       "      <td>False</td>\n",
       "      <td>False</td>\n",
       "      <td>False</td>\n",
       "    </tr>\n",
       "    <tr>\n",
       "      <th>1271</th>\n",
       "      <td>False</td>\n",
       "      <td>False</td>\n",
       "      <td>False</td>\n",
       "      <td>False</td>\n",
       "      <td>False</td>\n",
       "      <td>False</td>\n",
       "      <td>False</td>\n",
       "      <td>False</td>\n",
       "      <td>False</td>\n",
       "      <td>False</td>\n",
       "      <td>False</td>\n",
       "    </tr>\n",
       "    <tr>\n",
       "      <th>1272</th>\n",
       "      <td>False</td>\n",
       "      <td>False</td>\n",
       "      <td>False</td>\n",
       "      <td>False</td>\n",
       "      <td>False</td>\n",
       "      <td>False</td>\n",
       "      <td>False</td>\n",
       "      <td>False</td>\n",
       "      <td>False</td>\n",
       "      <td>False</td>\n",
       "      <td>False</td>\n",
       "    </tr>\n",
       "    <tr>\n",
       "      <th>1273</th>\n",
       "      <td>False</td>\n",
       "      <td>False</td>\n",
       "      <td>False</td>\n",
       "      <td>False</td>\n",
       "      <td>False</td>\n",
       "      <td>False</td>\n",
       "      <td>False</td>\n",
       "      <td>False</td>\n",
       "      <td>False</td>\n",
       "      <td>False</td>\n",
       "      <td>False</td>\n",
       "    </tr>\n",
       "  </tbody>\n",
       "</table>\n",
       "<p>1274 rows × 11 columns</p>\n",
       "</div>"
      ],
      "text/plain": [
       "      Company  TypeName  Inches  ScreenResolution    Cpu    Ram  Memory  \\\n",
       "0       False     False   False             False  False  False   False   \n",
       "1       False     False   False             False  False  False   False   \n",
       "2       False     False   False             False  False  False   False   \n",
       "3       False     False   False             False  False  False   False   \n",
       "4       False     False   False             False  False  False   False   \n",
       "...       ...       ...     ...               ...    ...    ...     ...   \n",
       "1269    False     False   False             False  False  False   False   \n",
       "1270    False     False   False             False  False  False   False   \n",
       "1271    False     False   False             False  False  False   False   \n",
       "1272    False     False   False             False  False  False   False   \n",
       "1273    False     False   False             False  False  False   False   \n",
       "\n",
       "        Gpu  OpSys  Weight  Price  \n",
       "0     False  False   False  False  \n",
       "1     False  False   False  False  \n",
       "2     False  False   False  False  \n",
       "3     False  False   False  False  \n",
       "4     False  False   False  False  \n",
       "...     ...    ...     ...    ...  \n",
       "1269  False  False   False  False  \n",
       "1270  False  False   False  False  \n",
       "1271  False  False   False  False  \n",
       "1272  False  False   False  False  \n",
       "1273  False  False   False  False  \n",
       "\n",
       "[1274 rows x 11 columns]"
      ]
     },
     "execution_count": 359,
     "metadata": {},
     "output_type": "execute_result"
    }
   ],
   "source": [
    "df5.isnull()"
   ]
  },
  {
   "cell_type": "code",
   "execution_count": 361,
   "metadata": {},
   "outputs": [
    {
     "data": {
      "text/plain": [
       "<bound method DataFrame.sum of       Company  TypeName  Inches  ScreenResolution    Cpu    Ram  Memory  \\\n",
       "0       False     False   False             False  False  False   False   \n",
       "1       False     False   False             False  False  False   False   \n",
       "2       False     False   False             False  False  False   False   \n",
       "3       False     False   False             False  False  False   False   \n",
       "4       False     False   False             False  False  False   False   \n",
       "...       ...       ...     ...               ...    ...    ...     ...   \n",
       "1269    False     False   False             False  False  False   False   \n",
       "1270    False     False   False             False  False  False   False   \n",
       "1271    False     False   False             False  False  False   False   \n",
       "1272    False     False   False             False  False  False   False   \n",
       "1273    False     False   False             False  False  False   False   \n",
       "\n",
       "        Gpu  OpSys  Weight  Price  \n",
       "0     False  False   False  False  \n",
       "1     False  False   False  False  \n",
       "2     False  False   False  False  \n",
       "3     False  False   False  False  \n",
       "4     False  False   False  False  \n",
       "...     ...    ...     ...    ...  \n",
       "1269  False  False   False  False  \n",
       "1270  False  False   False  False  \n",
       "1271  False  False   False  False  \n",
       "1272  False  False   False  False  \n",
       "1273  False  False   False  False  \n",
       "\n",
       "[1274 rows x 11 columns]>"
      ]
     },
     "execution_count": 361,
     "metadata": {},
     "output_type": "execute_result"
    }
   ],
   "source": [
    "df5.isnull().sum"
   ]
  },
  {
   "cell_type": "code",
   "execution_count": 363,
   "metadata": {},
   "outputs": [
    {
     "data": {
      "text/plain": [
       "<bound method DataFrame.sum of       Company  TypeName  Inches  ScreenResolution    Cpu    Ram  Memory  \\\n",
       "0       False     False   False             False  False  False   False   \n",
       "1       False     False   False             False  False  False   False   \n",
       "2       False     False   False             False  False  False   False   \n",
       "3       False     False   False             False  False  False   False   \n",
       "4       False     False   False             False  False  False   False   \n",
       "...       ...       ...     ...               ...    ...    ...     ...   \n",
       "1269    False     False   False             False  False  False   False   \n",
       "1270    False     False   False             False  False  False   False   \n",
       "1271    False     False   False             False  False  False   False   \n",
       "1272    False     False   False             False  False  False   False   \n",
       "1273    False     False   False             False  False  False   False   \n",
       "\n",
       "        Gpu  OpSys  Weight  Price  \n",
       "0     False  False   False  False  \n",
       "1     False  False   False  False  \n",
       "2     False  False   False  False  \n",
       "3     False  False   False  False  \n",
       "4     False  False   False  False  \n",
       "...     ...    ...     ...    ...  \n",
       "1269  False  False   False  False  \n",
       "1270  False  False   False  False  \n",
       "1271  False  False   False  False  \n",
       "1272  False  False   False  False  \n",
       "1273  False  False   False  False  \n",
       "\n",
       "[1274 rows x 11 columns]>"
      ]
     },
     "execution_count": 363,
     "metadata": {},
     "output_type": "execute_result"
    }
   ],
   "source": [
    "missing_values = df5.isnull().sum\n",
    "missing_values"
   ]
  },
  {
   "cell_type": "code",
   "execution_count": 365,
   "metadata": {},
   "outputs": [
    {
     "data": {
      "text/html": [
       "<div>\n",
       "<style scoped>\n",
       "    .dataframe tbody tr th:only-of-type {\n",
       "        vertical-align: middle;\n",
       "    }\n",
       "\n",
       "    .dataframe tbody tr th {\n",
       "        vertical-align: top;\n",
       "    }\n",
       "\n",
       "    .dataframe thead th {\n",
       "        text-align: right;\n",
       "    }\n",
       "</style>\n",
       "<table border=\"1\" class=\"dataframe\">\n",
       "  <thead>\n",
       "    <tr style=\"text-align: right;\">\n",
       "      <th></th>\n",
       "      <th>Company</th>\n",
       "      <th>TypeName</th>\n",
       "      <th>Inches</th>\n",
       "      <th>ScreenResolution</th>\n",
       "      <th>Cpu</th>\n",
       "      <th>Ram</th>\n",
       "      <th>Memory</th>\n",
       "      <th>Gpu</th>\n",
       "      <th>OpSys</th>\n",
       "      <th>Weight</th>\n",
       "      <th>Price</th>\n",
       "    </tr>\n",
       "  </thead>\n",
       "  <tbody>\n",
       "    <tr>\n",
       "      <th>0</th>\n",
       "      <td>True</td>\n",
       "      <td>True</td>\n",
       "      <td>True</td>\n",
       "      <td>True</td>\n",
       "      <td>True</td>\n",
       "      <td>True</td>\n",
       "      <td>True</td>\n",
       "      <td>True</td>\n",
       "      <td>True</td>\n",
       "      <td>True</td>\n",
       "      <td>True</td>\n",
       "    </tr>\n",
       "    <tr>\n",
       "      <th>1</th>\n",
       "      <td>True</td>\n",
       "      <td>True</td>\n",
       "      <td>True</td>\n",
       "      <td>True</td>\n",
       "      <td>True</td>\n",
       "      <td>True</td>\n",
       "      <td>True</td>\n",
       "      <td>True</td>\n",
       "      <td>True</td>\n",
       "      <td>True</td>\n",
       "      <td>True</td>\n",
       "    </tr>\n",
       "    <tr>\n",
       "      <th>2</th>\n",
       "      <td>True</td>\n",
       "      <td>True</td>\n",
       "      <td>True</td>\n",
       "      <td>True</td>\n",
       "      <td>True</td>\n",
       "      <td>True</td>\n",
       "      <td>True</td>\n",
       "      <td>True</td>\n",
       "      <td>True</td>\n",
       "      <td>True</td>\n",
       "      <td>True</td>\n",
       "    </tr>\n",
       "    <tr>\n",
       "      <th>3</th>\n",
       "      <td>True</td>\n",
       "      <td>True</td>\n",
       "      <td>True</td>\n",
       "      <td>True</td>\n",
       "      <td>True</td>\n",
       "      <td>True</td>\n",
       "      <td>True</td>\n",
       "      <td>True</td>\n",
       "      <td>True</td>\n",
       "      <td>True</td>\n",
       "      <td>True</td>\n",
       "    </tr>\n",
       "    <tr>\n",
       "      <th>4</th>\n",
       "      <td>True</td>\n",
       "      <td>True</td>\n",
       "      <td>True</td>\n",
       "      <td>True</td>\n",
       "      <td>True</td>\n",
       "      <td>True</td>\n",
       "      <td>True</td>\n",
       "      <td>True</td>\n",
       "      <td>True</td>\n",
       "      <td>True</td>\n",
       "      <td>True</td>\n",
       "    </tr>\n",
       "    <tr>\n",
       "      <th>...</th>\n",
       "      <td>...</td>\n",
       "      <td>...</td>\n",
       "      <td>...</td>\n",
       "      <td>...</td>\n",
       "      <td>...</td>\n",
       "      <td>...</td>\n",
       "      <td>...</td>\n",
       "      <td>...</td>\n",
       "      <td>...</td>\n",
       "      <td>...</td>\n",
       "      <td>...</td>\n",
       "    </tr>\n",
       "    <tr>\n",
       "      <th>1269</th>\n",
       "      <td>True</td>\n",
       "      <td>True</td>\n",
       "      <td>True</td>\n",
       "      <td>True</td>\n",
       "      <td>True</td>\n",
       "      <td>True</td>\n",
       "      <td>True</td>\n",
       "      <td>True</td>\n",
       "      <td>True</td>\n",
       "      <td>True</td>\n",
       "      <td>True</td>\n",
       "    </tr>\n",
       "    <tr>\n",
       "      <th>1270</th>\n",
       "      <td>True</td>\n",
       "      <td>True</td>\n",
       "      <td>True</td>\n",
       "      <td>True</td>\n",
       "      <td>True</td>\n",
       "      <td>True</td>\n",
       "      <td>True</td>\n",
       "      <td>True</td>\n",
       "      <td>True</td>\n",
       "      <td>True</td>\n",
       "      <td>True</td>\n",
       "    </tr>\n",
       "    <tr>\n",
       "      <th>1271</th>\n",
       "      <td>True</td>\n",
       "      <td>True</td>\n",
       "      <td>True</td>\n",
       "      <td>True</td>\n",
       "      <td>True</td>\n",
       "      <td>True</td>\n",
       "      <td>True</td>\n",
       "      <td>True</td>\n",
       "      <td>True</td>\n",
       "      <td>True</td>\n",
       "      <td>True</td>\n",
       "    </tr>\n",
       "    <tr>\n",
       "      <th>1272</th>\n",
       "      <td>True</td>\n",
       "      <td>True</td>\n",
       "      <td>True</td>\n",
       "      <td>True</td>\n",
       "      <td>True</td>\n",
       "      <td>True</td>\n",
       "      <td>True</td>\n",
       "      <td>True</td>\n",
       "      <td>True</td>\n",
       "      <td>True</td>\n",
       "      <td>True</td>\n",
       "    </tr>\n",
       "    <tr>\n",
       "      <th>1273</th>\n",
       "      <td>True</td>\n",
       "      <td>True</td>\n",
       "      <td>True</td>\n",
       "      <td>True</td>\n",
       "      <td>True</td>\n",
       "      <td>True</td>\n",
       "      <td>True</td>\n",
       "      <td>True</td>\n",
       "      <td>True</td>\n",
       "      <td>True</td>\n",
       "      <td>True</td>\n",
       "    </tr>\n",
       "  </tbody>\n",
       "</table>\n",
       "<p>1274 rows × 11 columns</p>\n",
       "</div>"
      ],
      "text/plain": [
       "      Company  TypeName  Inches  ScreenResolution   Cpu   Ram  Memory   Gpu  \\\n",
       "0        True      True    True              True  True  True    True  True   \n",
       "1        True      True    True              True  True  True    True  True   \n",
       "2        True      True    True              True  True  True    True  True   \n",
       "3        True      True    True              True  True  True    True  True   \n",
       "4        True      True    True              True  True  True    True  True   \n",
       "...       ...       ...     ...               ...   ...   ...     ...   ...   \n",
       "1269     True      True    True              True  True  True    True  True   \n",
       "1270     True      True    True              True  True  True    True  True   \n",
       "1271     True      True    True              True  True  True    True  True   \n",
       "1272     True      True    True              True  True  True    True  True   \n",
       "1273     True      True    True              True  True  True    True  True   \n",
       "\n",
       "      OpSys  Weight  Price  \n",
       "0      True    True   True  \n",
       "1      True    True   True  \n",
       "2      True    True   True  \n",
       "3      True    True   True  \n",
       "4      True    True   True  \n",
       "...     ...     ...    ...  \n",
       "1269   True    True   True  \n",
       "1270   True    True   True  \n",
       "1271   True    True   True  \n",
       "1272   True    True   True  \n",
       "1273   True    True   True  \n",
       "\n",
       "[1274 rows x 11 columns]"
      ]
     },
     "execution_count": 365,
     "metadata": {},
     "output_type": "execute_result"
    }
   ],
   "source": [
    "existing_values = df5.notnull()\n",
    "existing_values"
   ]
  },
  {
   "cell_type": "code",
   "execution_count": null,
   "metadata": {},
   "outputs": [],
   "source": [
    "# Null value bulunmamaktadır. "
   ]
  },
  {
   "cell_type": "markdown",
   "metadata": {},
   "source": [
    "<div class=\"alert alert-block alert-success\">\n",
    "\n",
    "### <span style=\" color:red\"> Standardize data formats:\n",
    "\n",
    "- Convert Weight to a numeric column (strip the \"kg\" and convert to float) etc. Apply similar operations to other required columns. You may consider adding new features.\n",
    "\n",
    "- Verify the data types of each column and convert them to appropriate formats if necessary."
   ]
  },
  {
   "cell_type": "code",
   "execution_count": 367,
   "metadata": {},
   "outputs": [
    {
     "data": {
      "text/html": [
       "<div>\n",
       "<style scoped>\n",
       "    .dataframe tbody tr th:only-of-type {\n",
       "        vertical-align: middle;\n",
       "    }\n",
       "\n",
       "    .dataframe tbody tr th {\n",
       "        vertical-align: top;\n",
       "    }\n",
       "\n",
       "    .dataframe thead th {\n",
       "        text-align: right;\n",
       "    }\n",
       "</style>\n",
       "<table border=\"1\" class=\"dataframe\">\n",
       "  <thead>\n",
       "    <tr style=\"text-align: right;\">\n",
       "      <th></th>\n",
       "      <th>Company</th>\n",
       "      <th>TypeName</th>\n",
       "      <th>Inches</th>\n",
       "      <th>ScreenResolution</th>\n",
       "      <th>Cpu</th>\n",
       "      <th>Ram</th>\n",
       "      <th>Memory</th>\n",
       "      <th>Gpu</th>\n",
       "      <th>OpSys</th>\n",
       "      <th>Weight</th>\n",
       "      <th>Price</th>\n",
       "    </tr>\n",
       "  </thead>\n",
       "  <tbody>\n",
       "    <tr>\n",
       "      <th>0</th>\n",
       "      <td>Apple</td>\n",
       "      <td>Ultrabook</td>\n",
       "      <td>13.3</td>\n",
       "      <td>IPS Panel Retina Display 2560x1600</td>\n",
       "      <td>Intel Core i5 2.3GHz</td>\n",
       "      <td>8GB</td>\n",
       "      <td>128GB SSD</td>\n",
       "      <td>Intel Iris Plus Graphics 640</td>\n",
       "      <td>macOS</td>\n",
       "      <td>1.37kg</td>\n",
       "      <td>71378.6832</td>\n",
       "    </tr>\n",
       "    <tr>\n",
       "      <th>1</th>\n",
       "      <td>Apple</td>\n",
       "      <td>Ultrabook</td>\n",
       "      <td>13.3</td>\n",
       "      <td>1440x900</td>\n",
       "      <td>Intel Core i5 1.8GHz</td>\n",
       "      <td>8GB</td>\n",
       "      <td>128GB Flash Storage</td>\n",
       "      <td>Intel HD Graphics 6000</td>\n",
       "      <td>macOS</td>\n",
       "      <td>1.34kg</td>\n",
       "      <td>47895.5232</td>\n",
       "    </tr>\n",
       "  </tbody>\n",
       "</table>\n",
       "</div>"
      ],
      "text/plain": [
       "  Company   TypeName  Inches                    ScreenResolution  \\\n",
       "0   Apple  Ultrabook    13.3  IPS Panel Retina Display 2560x1600   \n",
       "1   Apple  Ultrabook    13.3                            1440x900   \n",
       "\n",
       "                    Cpu  Ram               Memory  \\\n",
       "0  Intel Core i5 2.3GHz  8GB            128GB SSD   \n",
       "1  Intel Core i5 1.8GHz  8GB  128GB Flash Storage   \n",
       "\n",
       "                            Gpu  OpSys  Weight       Price  \n",
       "0  Intel Iris Plus Graphics 640  macOS  1.37kg  71378.6832  \n",
       "1        Intel HD Graphics 6000  macOS  1.34kg  47895.5232  "
      ]
     },
     "execution_count": 367,
     "metadata": {},
     "output_type": "execute_result"
    }
   ],
   "source": [
    "df5.head(2)"
   ]
  },
  {
   "cell_type": "code",
   "execution_count": 369,
   "metadata": {},
   "outputs": [
    {
     "name": "stdout",
     "output_type": "stream",
     "text": [
      "0       1.37\n",
      "1       1.34\n",
      "2       1.86\n",
      "3       1.83\n",
      "4       1.37\n",
      "        ... \n",
      "1269     2.2\n",
      "1270     1.8\n",
      "1271     1.3\n",
      "1272     1.5\n",
      "1273    2.19\n",
      "Name: Weight, Length: 1274, dtype: object\n"
     ]
    }
   ],
   "source": [
    "## Weight sütunundan kg ifadesinin silinmesi.\n",
    "\n",
    "df5['Weight'] = df5['Weight'].str.replace('kg', '')\n",
    "print(df5['Weight'])"
   ]
  },
  {
   "cell_type": "code",
   "execution_count": 46,
   "metadata": {},
   "outputs": [],
   "source": [
    "# Tutarlı adlandırma kuralları için sütun adlarını (gerekirse) standartlaştırın."
   ]
  },
  {
   "cell_type": "code",
   "execution_count": 371,
   "metadata": {},
   "outputs": [],
   "source": [
    "df5.columns = df5.columns.str.strip() "
   ]
  },
  {
   "cell_type": "code",
   "execution_count": null,
   "metadata": {},
   "outputs": [],
   "source": [
    "# Başındaki/sonundaki boşlukları kaldır .str.lower() \n",
    "# Tüm harfleri küçük yap .str.replace(' ', '_') \n",
    "# Boşlukları alt çizgi ile değiştir .str.replace(r'[^\\w]', '') \n",
    "# Özel karakterleri kaldır )"
   ]
  },
  {
   "cell_type": "code",
   "execution_count": 373,
   "metadata": {},
   "outputs": [
    {
     "name": "stdout",
     "output_type": "stream",
     "text": [
      "Index(['company', 'typename', 'inches', 'screenresolution', 'cpu', 'ram',\n",
      "       'memory', 'gpu', 'opsys', 'weight', 'price'],\n",
      "      dtype='object')\n"
     ]
    }
   ],
   "source": [
    "df5.columns = df5.columns.str.strip().str.lower().str.replace(' ', '_').str.replace(r'[^\\w]', '', regex=True)\n",
    "print(df5.columns)"
   ]
  },
  {
   "cell_type": "code",
   "execution_count": null,
   "metadata": {},
   "outputs": [],
   "source": [
    "## Her sütunun veri türlerini doğrulama ve ihtiyaç halinde uygun veri türüne dönüştürme"
   ]
  },
  {
   "cell_type": "code",
   "execution_count": 375,
   "metadata": {},
   "outputs": [
    {
     "data": {
      "text/html": [
       "<div>\n",
       "<style scoped>\n",
       "    .dataframe tbody tr th:only-of-type {\n",
       "        vertical-align: middle;\n",
       "    }\n",
       "\n",
       "    .dataframe tbody tr th {\n",
       "        vertical-align: top;\n",
       "    }\n",
       "\n",
       "    .dataframe thead th {\n",
       "        text-align: right;\n",
       "    }\n",
       "</style>\n",
       "<table border=\"1\" class=\"dataframe\">\n",
       "  <thead>\n",
       "    <tr style=\"text-align: right;\">\n",
       "      <th></th>\n",
       "      <th>company</th>\n",
       "      <th>typename</th>\n",
       "      <th>inches</th>\n",
       "      <th>screenresolution</th>\n",
       "      <th>cpu</th>\n",
       "      <th>ram</th>\n",
       "      <th>memory</th>\n",
       "      <th>gpu</th>\n",
       "      <th>opsys</th>\n",
       "      <th>weight</th>\n",
       "      <th>price</th>\n",
       "    </tr>\n",
       "  </thead>\n",
       "  <tbody>\n",
       "    <tr>\n",
       "      <th>0</th>\n",
       "      <td>Apple</td>\n",
       "      <td>Ultrabook</td>\n",
       "      <td>13.3</td>\n",
       "      <td>IPS Panel Retina Display 2560x1600</td>\n",
       "      <td>Intel Core i5 2.3GHz</td>\n",
       "      <td>8GB</td>\n",
       "      <td>128GB SSD</td>\n",
       "      <td>Intel Iris Plus Graphics 640</td>\n",
       "      <td>macOS</td>\n",
       "      <td>1.37</td>\n",
       "      <td>71378.6832</td>\n",
       "    </tr>\n",
       "    <tr>\n",
       "      <th>1</th>\n",
       "      <td>Apple</td>\n",
       "      <td>Ultrabook</td>\n",
       "      <td>13.3</td>\n",
       "      <td>1440x900</td>\n",
       "      <td>Intel Core i5 1.8GHz</td>\n",
       "      <td>8GB</td>\n",
       "      <td>128GB Flash Storage</td>\n",
       "      <td>Intel HD Graphics 6000</td>\n",
       "      <td>macOS</td>\n",
       "      <td>1.34</td>\n",
       "      <td>47895.5232</td>\n",
       "    </tr>\n",
       "  </tbody>\n",
       "</table>\n",
       "</div>"
      ],
      "text/plain": [
       "  company   typename  inches                    screenresolution  \\\n",
       "0   Apple  Ultrabook    13.3  IPS Panel Retina Display 2560x1600   \n",
       "1   Apple  Ultrabook    13.3                            1440x900   \n",
       "\n",
       "                    cpu  ram               memory  \\\n",
       "0  Intel Core i5 2.3GHz  8GB            128GB SSD   \n",
       "1  Intel Core i5 1.8GHz  8GB  128GB Flash Storage   \n",
       "\n",
       "                            gpu  opsys weight       price  \n",
       "0  Intel Iris Plus Graphics 640  macOS   1.37  71378.6832  \n",
       "1        Intel HD Graphics 6000  macOS   1.34  47895.5232  "
      ]
     },
     "execution_count": 375,
     "metadata": {},
     "output_type": "execute_result"
    }
   ],
   "source": [
    "df5.head(2)"
   ]
  },
  {
   "cell_type": "code",
   "execution_count": 377,
   "metadata": {},
   "outputs": [
    {
     "data": {
      "text/plain": [
       "company              object\n",
       "typename             object\n",
       "inches              float64\n",
       "screenresolution     object\n",
       "cpu                  object\n",
       "ram                  object\n",
       "memory               object\n",
       "gpu                  object\n",
       "opsys                object\n",
       "weight               object\n",
       "price               float64\n",
       "dtype: object"
      ]
     },
     "execution_count": 377,
     "metadata": {},
     "output_type": "execute_result"
    }
   ],
   "source": [
    "df5.dtypes"
   ]
  },
  {
   "cell_type": "markdown",
   "metadata": {},
   "source": [
    "# Olması gereken data tipi şekilleri şu şekilde olmalıdır.\n",
    "# company : object # doğru\n",
    "# typename : object # doğru\n",
    "# inches : float64 # doğru\n",
    "# screenresolution  : tamsayı (int) # yanlış\n",
    "# cpu : float # yanlış\n",
    "# ram : tamsayı (int) # yanlış\n",
    "# memory : tamsayı (int) # yanlış\n",
    "# gpu : object # pek çok veri bulunmaktadır. Silinmesi düşünülmektedir. # doğru\n",
    "# opsys : object # doğru\n",
    "# weight : float # yanlış\n",
    "# price : float64 # doğru\n",
    "\n",
    "## sonuç olarak değişmesi gerekenler\n",
    "# screenresolution  : tamsayı (int) # yanlış\n",
    "# cpu : float # yanlış\n",
    "# ram : tamsayı (int) # yanlış\n",
    "# weight : float # yanlış......\n",
    "# sütunları düzenlenmelidir. "
   ]
  },
  {
   "cell_type": "code",
   "execution_count": 379,
   "metadata": {},
   "outputs": [],
   "source": [
    "df5['screenresolution'] = df5['screenresolution'].str.extract(r'(\\d+x\\d+)')"
   ]
  },
  {
   "cell_type": "code",
   "execution_count": 381,
   "metadata": {},
   "outputs": [
    {
     "data": {
      "text/html": [
       "<div>\n",
       "<style scoped>\n",
       "    .dataframe tbody tr th:only-of-type {\n",
       "        vertical-align: middle;\n",
       "    }\n",
       "\n",
       "    .dataframe tbody tr th {\n",
       "        vertical-align: top;\n",
       "    }\n",
       "\n",
       "    .dataframe thead th {\n",
       "        text-align: right;\n",
       "    }\n",
       "</style>\n",
       "<table border=\"1\" class=\"dataframe\">\n",
       "  <thead>\n",
       "    <tr style=\"text-align: right;\">\n",
       "      <th></th>\n",
       "      <th>company</th>\n",
       "      <th>typename</th>\n",
       "      <th>inches</th>\n",
       "      <th>screenresolution</th>\n",
       "      <th>cpu</th>\n",
       "      <th>ram</th>\n",
       "      <th>memory</th>\n",
       "      <th>gpu</th>\n",
       "      <th>opsys</th>\n",
       "      <th>weight</th>\n",
       "      <th>price</th>\n",
       "    </tr>\n",
       "  </thead>\n",
       "  <tbody>\n",
       "    <tr>\n",
       "      <th>0</th>\n",
       "      <td>Apple</td>\n",
       "      <td>Ultrabook</td>\n",
       "      <td>13.3</td>\n",
       "      <td>2560x1600</td>\n",
       "      <td>Intel Core i5 2.3GHz</td>\n",
       "      <td>8GB</td>\n",
       "      <td>128GB SSD</td>\n",
       "      <td>Intel Iris Plus Graphics 640</td>\n",
       "      <td>macOS</td>\n",
       "      <td>1.37</td>\n",
       "      <td>71378.6832</td>\n",
       "    </tr>\n",
       "    <tr>\n",
       "      <th>1</th>\n",
       "      <td>Apple</td>\n",
       "      <td>Ultrabook</td>\n",
       "      <td>13.3</td>\n",
       "      <td>1440x900</td>\n",
       "      <td>Intel Core i5 1.8GHz</td>\n",
       "      <td>8GB</td>\n",
       "      <td>128GB Flash Storage</td>\n",
       "      <td>Intel HD Graphics 6000</td>\n",
       "      <td>macOS</td>\n",
       "      <td>1.34</td>\n",
       "      <td>47895.5232</td>\n",
       "    </tr>\n",
       "    <tr>\n",
       "      <th>2</th>\n",
       "      <td>HP</td>\n",
       "      <td>Notebook</td>\n",
       "      <td>15.6</td>\n",
       "      <td>1920x1080</td>\n",
       "      <td>Intel Core i5 7200U 2.5GHz</td>\n",
       "      <td>8GB</td>\n",
       "      <td>256GB SSD</td>\n",
       "      <td>Intel HD Graphics 620</td>\n",
       "      <td>No OS</td>\n",
       "      <td>1.86</td>\n",
       "      <td>30636.0000</td>\n",
       "    </tr>\n",
       "    <tr>\n",
       "      <th>3</th>\n",
       "      <td>Apple</td>\n",
       "      <td>Ultrabook</td>\n",
       "      <td>15.4</td>\n",
       "      <td>2880x1800</td>\n",
       "      <td>Intel Core i7 2.7GHz</td>\n",
       "      <td>16GB</td>\n",
       "      <td>512GB SSD</td>\n",
       "      <td>AMD Radeon Pro 455</td>\n",
       "      <td>macOS</td>\n",
       "      <td>1.83</td>\n",
       "      <td>135195.3360</td>\n",
       "    </tr>\n",
       "    <tr>\n",
       "      <th>4</th>\n",
       "      <td>Apple</td>\n",
       "      <td>Ultrabook</td>\n",
       "      <td>13.3</td>\n",
       "      <td>2560x1600</td>\n",
       "      <td>Intel Core i5 3.1GHz</td>\n",
       "      <td>8GB</td>\n",
       "      <td>256GB SSD</td>\n",
       "      <td>Intel Iris Plus Graphics 650</td>\n",
       "      <td>macOS</td>\n",
       "      <td>1.37</td>\n",
       "      <td>96095.8080</td>\n",
       "    </tr>\n",
       "  </tbody>\n",
       "</table>\n",
       "</div>"
      ],
      "text/plain": [
       "  company   typename  inches screenresolution                         cpu  \\\n",
       "0   Apple  Ultrabook    13.3        2560x1600        Intel Core i5 2.3GHz   \n",
       "1   Apple  Ultrabook    13.3         1440x900        Intel Core i5 1.8GHz   \n",
       "2      HP   Notebook    15.6        1920x1080  Intel Core i5 7200U 2.5GHz   \n",
       "3   Apple  Ultrabook    15.4        2880x1800        Intel Core i7 2.7GHz   \n",
       "4   Apple  Ultrabook    13.3        2560x1600        Intel Core i5 3.1GHz   \n",
       "\n",
       "    ram               memory                           gpu  opsys weight  \\\n",
       "0   8GB            128GB SSD  Intel Iris Plus Graphics 640  macOS   1.37   \n",
       "1   8GB  128GB Flash Storage        Intel HD Graphics 6000  macOS   1.34   \n",
       "2   8GB            256GB SSD         Intel HD Graphics 620  No OS   1.86   \n",
       "3  16GB            512GB SSD            AMD Radeon Pro 455  macOS   1.83   \n",
       "4   8GB            256GB SSD  Intel Iris Plus Graphics 650  macOS   1.37   \n",
       "\n",
       "         price  \n",
       "0   71378.6832  \n",
       "1   47895.5232  \n",
       "2   30636.0000  \n",
       "3  135195.3360  \n",
       "4   96095.8080  "
      ]
     },
     "execution_count": 381,
     "metadata": {},
     "output_type": "execute_result"
    }
   ],
   "source": [
    "df5.head()"
   ]
  },
  {
   "cell_type": "code",
   "execution_count": 383,
   "metadata": {},
   "outputs": [
    {
     "data": {
      "text/plain": [
       "company              object\n",
       "typename             object\n",
       "inches              float64\n",
       "screenresolution     object\n",
       "cpu                  object\n",
       "ram                  object\n",
       "memory               object\n",
       "gpu                  object\n",
       "opsys                object\n",
       "weight               object\n",
       "price               float64\n",
       "dtype: object"
      ]
     },
     "execution_count": 383,
     "metadata": {},
     "output_type": "execute_result"
    }
   ],
   "source": [
    "df5.dtypes"
   ]
  },
  {
   "cell_type": "code",
   "execution_count": 385,
   "metadata": {},
   "outputs": [
    {
     "name": "stdout",
     "output_type": "stream",
     "text": [
      "     company            typename  inches screenresolution  \\\n",
      "0      Apple           Ultrabook    13.3        2560x1600   \n",
      "1      Apple           Ultrabook    13.3         1440x900   \n",
      "2         HP            Notebook    15.6        1920x1080   \n",
      "3      Apple           Ultrabook    15.4        2880x1800   \n",
      "4      Apple           Ultrabook    13.3        2560x1600   \n",
      "...      ...                 ...     ...              ...   \n",
      "1269    Asus            Notebook    15.6         1366x768   \n",
      "1270  Lenovo  2 in 1 Convertible    14.0        1920x1080   \n",
      "1271  Lenovo  2 in 1 Convertible    13.3        3200x1800   \n",
      "1272  Lenovo            Notebook    14.0         1366x768   \n",
      "1273      HP            Notebook    15.6         1366x768   \n",
      "\n",
      "                                       cpu   ram               memory  \\\n",
      "0                     Intel Core i5 2.3GHz   8GB            128GB SSD   \n",
      "1                     Intel Core i5 1.8GHz   8GB  128GB Flash Storage   \n",
      "2               Intel Core i5 7200U 2.5GHz   8GB            256GB SSD   \n",
      "3                     Intel Core i7 2.7GHz  16GB            512GB SSD   \n",
      "4                     Intel Core i5 3.1GHz   8GB            256GB SSD   \n",
      "...                                    ...   ...                  ...   \n",
      "1269            Intel Core i7 6500U 2.5GHz   4GB            500GB HDD   \n",
      "1270            Intel Core i7 6500U 2.5GHz   4GB            128GB SSD   \n",
      "1271            Intel Core i7 6500U 2.5GHz  16GB            512GB SSD   \n",
      "1272  Intel Celeron Dual Core N3050 1.6GHz   2GB   64GB Flash Storage   \n",
      "1273            Intel Core i7 6500U 2.5GHz   6GB              1TB HDD   \n",
      "\n",
      "                               gpu       opsys weight        price  \n",
      "0     Intel Iris Plus Graphics 640       macOS   1.37   71378.6832  \n",
      "1           Intel HD Graphics 6000       macOS   1.34   47895.5232  \n",
      "2            Intel HD Graphics 620       No OS   1.86   30636.0000  \n",
      "3               AMD Radeon Pro 455       macOS   1.83  135195.3360  \n",
      "4     Intel Iris Plus Graphics 650       macOS   1.37   96095.8080  \n",
      "...                            ...         ...    ...          ...  \n",
      "1269           Nvidia GeForce 920M  Windows 10    2.2   38378.6496  \n",
      "1270         Intel HD Graphics 520  Windows 10    1.8   33992.6400  \n",
      "1271         Intel HD Graphics 520  Windows 10    1.3   79866.7200  \n",
      "1272             Intel HD Graphics  Windows 10    1.5   12201.1200  \n",
      "1273            AMD Radeon R5 M330  Windows 10   2.19   40705.9200  \n",
      "\n",
      "[1274 rows x 11 columns]\n"
     ]
    }
   ],
   "source": [
    "df5['screenresolution'] = df5['screenresolution'].str.extract(r'(\\d+x\\d+)')\n",
    "print(df5)"
   ]
  },
  {
   "cell_type": "code",
   "execution_count": 387,
   "metadata": {},
   "outputs": [
    {
     "name": "stdout",
     "output_type": "stream",
     "text": [
      "     company            typename  inches screenresolution  cpu   ram  \\\n",
      "0      Apple           Ultrabook    13.3        2560x1600  2.3   8GB   \n",
      "1      Apple           Ultrabook    13.3         1440x900  1.8   8GB   \n",
      "2         HP            Notebook    15.6        1920x1080  2.5   8GB   \n",
      "3      Apple           Ultrabook    15.4        2880x1800  2.7  16GB   \n",
      "4      Apple           Ultrabook    13.3        2560x1600  3.1   8GB   \n",
      "...      ...                 ...     ...              ...  ...   ...   \n",
      "1269    Asus            Notebook    15.6         1366x768  2.5   4GB   \n",
      "1270  Lenovo  2 in 1 Convertible    14.0        1920x1080  2.5   4GB   \n",
      "1271  Lenovo  2 in 1 Convertible    13.3        3200x1800  2.5  16GB   \n",
      "1272  Lenovo            Notebook    14.0         1366x768  1.6   2GB   \n",
      "1273      HP            Notebook    15.6         1366x768  2.5   6GB   \n",
      "\n",
      "                   memory                           gpu       opsys weight  \\\n",
      "0               128GB SSD  Intel Iris Plus Graphics 640       macOS   1.37   \n",
      "1     128GB Flash Storage        Intel HD Graphics 6000       macOS   1.34   \n",
      "2               256GB SSD         Intel HD Graphics 620       No OS   1.86   \n",
      "3               512GB SSD            AMD Radeon Pro 455       macOS   1.83   \n",
      "4               256GB SSD  Intel Iris Plus Graphics 650       macOS   1.37   \n",
      "...                   ...                           ...         ...    ...   \n",
      "1269            500GB HDD           Nvidia GeForce 920M  Windows 10    2.2   \n",
      "1270            128GB SSD         Intel HD Graphics 520  Windows 10    1.8   \n",
      "1271            512GB SSD         Intel HD Graphics 520  Windows 10    1.3   \n",
      "1272   64GB Flash Storage             Intel HD Graphics  Windows 10    1.5   \n",
      "1273              1TB HDD            AMD Radeon R5 M330  Windows 10   2.19   \n",
      "\n",
      "            price  \n",
      "0      71378.6832  \n",
      "1      47895.5232  \n",
      "2      30636.0000  \n",
      "3     135195.3360  \n",
      "4      96095.8080  \n",
      "...           ...  \n",
      "1269   38378.6496  \n",
      "1270   33992.6400  \n",
      "1271   79866.7200  \n",
      "1272   12201.1200  \n",
      "1273   40705.9200  \n",
      "\n",
      "[1274 rows x 11 columns]\n"
     ]
    }
   ],
   "source": [
    "df5['cpu'] = df5['cpu'].str.extract(r'(\\d+\\.\\d+)')\n",
    "print(df5)"
   ]
  },
  {
   "cell_type": "code",
   "execution_count": 389,
   "metadata": {},
   "outputs": [
    {
     "name": "stdout",
     "output_type": "stream",
     "text": [
      "     company            typename  inches screenresolution  cpu ram  \\\n",
      "0      Apple           Ultrabook    13.3        2560x1600  2.3   8   \n",
      "1      Apple           Ultrabook    13.3         1440x900  1.8   8   \n",
      "2         HP            Notebook    15.6        1920x1080  2.5   8   \n",
      "3      Apple           Ultrabook    15.4        2880x1800  2.7  16   \n",
      "4      Apple           Ultrabook    13.3        2560x1600  3.1   8   \n",
      "...      ...                 ...     ...              ...  ...  ..   \n",
      "1269    Asus            Notebook    15.6         1366x768  2.5   4   \n",
      "1270  Lenovo  2 in 1 Convertible    14.0        1920x1080  2.5   4   \n",
      "1271  Lenovo  2 in 1 Convertible    13.3        3200x1800  2.5  16   \n",
      "1272  Lenovo            Notebook    14.0         1366x768  1.6   2   \n",
      "1273      HP            Notebook    15.6         1366x768  2.5   6   \n",
      "\n",
      "                   memory                           gpu       opsys weight  \\\n",
      "0               128GB SSD  Intel Iris Plus Graphics 640       macOS   1.37   \n",
      "1     128GB Flash Storage        Intel HD Graphics 6000       macOS   1.34   \n",
      "2               256GB SSD         Intel HD Graphics 620       No OS   1.86   \n",
      "3               512GB SSD            AMD Radeon Pro 455       macOS   1.83   \n",
      "4               256GB SSD  Intel Iris Plus Graphics 650       macOS   1.37   \n",
      "...                   ...                           ...         ...    ...   \n",
      "1269            500GB HDD           Nvidia GeForce 920M  Windows 10    2.2   \n",
      "1270            128GB SSD         Intel HD Graphics 520  Windows 10    1.8   \n",
      "1271            512GB SSD         Intel HD Graphics 520  Windows 10    1.3   \n",
      "1272   64GB Flash Storage             Intel HD Graphics  Windows 10    1.5   \n",
      "1273              1TB HDD            AMD Radeon R5 M330  Windows 10   2.19   \n",
      "\n",
      "            price  \n",
      "0      71378.6832  \n",
      "1      47895.5232  \n",
      "2      30636.0000  \n",
      "3     135195.3360  \n",
      "4      96095.8080  \n",
      "...           ...  \n",
      "1269   38378.6496  \n",
      "1270   33992.6400  \n",
      "1271   79866.7200  \n",
      "1272   12201.1200  \n",
      "1273   40705.9200  \n",
      "\n",
      "[1274 rows x 11 columns]\n"
     ]
    }
   ],
   "source": [
    "df5['ram'] = df5['ram'].str.extract(r'(\\d+)')\n",
    "\n",
    "print(df5)"
   ]
  },
  {
   "cell_type": "code",
   "execution_count": 391,
   "metadata": {},
   "outputs": [
    {
     "name": "stdout",
     "output_type": "stream",
     "text": [
      "     company            typename  inches screenresolution  cpu ram memory  \\\n",
      "0      Apple           Ultrabook    13.3        2560x1600  2.3   8    128   \n",
      "1      Apple           Ultrabook    13.3         1440x900  1.8   8    128   \n",
      "2         HP            Notebook    15.6        1920x1080  2.5   8    256   \n",
      "3      Apple           Ultrabook    15.4        2880x1800  2.7  16    512   \n",
      "4      Apple           Ultrabook    13.3        2560x1600  3.1   8    256   \n",
      "...      ...                 ...     ...              ...  ...  ..    ...   \n",
      "1269    Asus            Notebook    15.6         1366x768  2.5   4    500   \n",
      "1270  Lenovo  2 in 1 Convertible    14.0        1920x1080  2.5   4    128   \n",
      "1271  Lenovo  2 in 1 Convertible    13.3        3200x1800  2.5  16    512   \n",
      "1272  Lenovo            Notebook    14.0         1366x768  1.6   2     64   \n",
      "1273      HP            Notebook    15.6         1366x768  2.5   6      1   \n",
      "\n",
      "                               gpu       opsys weight        price  \n",
      "0     Intel Iris Plus Graphics 640       macOS   1.37   71378.6832  \n",
      "1           Intel HD Graphics 6000       macOS   1.34   47895.5232  \n",
      "2            Intel HD Graphics 620       No OS   1.86   30636.0000  \n",
      "3               AMD Radeon Pro 455       macOS   1.83  135195.3360  \n",
      "4     Intel Iris Plus Graphics 650       macOS   1.37   96095.8080  \n",
      "...                            ...         ...    ...          ...  \n",
      "1269           Nvidia GeForce 920M  Windows 10    2.2   38378.6496  \n",
      "1270         Intel HD Graphics 520  Windows 10    1.8   33992.6400  \n",
      "1271         Intel HD Graphics 520  Windows 10    1.3   79866.7200  \n",
      "1272             Intel HD Graphics  Windows 10    1.5   12201.1200  \n",
      "1273            AMD Radeon R5 M330  Windows 10   2.19   40705.9200  \n",
      "\n",
      "[1274 rows x 11 columns]\n"
     ]
    }
   ],
   "source": [
    "df5['memory'] = df5['memory'].str.extract(r'(\\d+)')\n",
    "\n",
    "print(df5)"
   ]
  },
  {
   "cell_type": "code",
   "execution_count": 393,
   "metadata": {},
   "outputs": [],
   "source": [
    "df6=df5.copy()\n",
    "\n",
    "# şu an df5 arıza verirse df6 olarak devam edebiliriz"
   ]
  },
  {
   "cell_type": "code",
   "execution_count": 405,
   "metadata": {},
   "outputs": [],
   "source": [
    "df7= df5.copy()\n",
    "df8= df5.copy()"
   ]
  },
  {
   "cell_type": "code",
   "execution_count": 399,
   "metadata": {},
   "outputs": [
    {
     "data": {
      "text/html": [
       "<div>\n",
       "<style scoped>\n",
       "    .dataframe tbody tr th:only-of-type {\n",
       "        vertical-align: middle;\n",
       "    }\n",
       "\n",
       "    .dataframe tbody tr th {\n",
       "        vertical-align: top;\n",
       "    }\n",
       "\n",
       "    .dataframe thead th {\n",
       "        text-align: right;\n",
       "    }\n",
       "</style>\n",
       "<table border=\"1\" class=\"dataframe\">\n",
       "  <thead>\n",
       "    <tr style=\"text-align: right;\">\n",
       "      <th></th>\n",
       "      <th>company</th>\n",
       "      <th>typename</th>\n",
       "      <th>inches</th>\n",
       "      <th>screenresolution</th>\n",
       "      <th>cpu</th>\n",
       "      <th>ram</th>\n",
       "      <th>memory</th>\n",
       "      <th>gpu</th>\n",
       "      <th>opsys</th>\n",
       "      <th>weight</th>\n",
       "      <th>price</th>\n",
       "    </tr>\n",
       "  </thead>\n",
       "  <tbody>\n",
       "    <tr>\n",
       "      <th>0</th>\n",
       "      <td>Apple</td>\n",
       "      <td>Ultrabook</td>\n",
       "      <td>13.3</td>\n",
       "      <td>2560x1600</td>\n",
       "      <td>2.3</td>\n",
       "      <td>8</td>\n",
       "      <td>128</td>\n",
       "      <td>Intel Iris Plus Graphics 640</td>\n",
       "      <td>macOS</td>\n",
       "      <td>1.37</td>\n",
       "      <td>71378.6832</td>\n",
       "    </tr>\n",
       "    <tr>\n",
       "      <th>1</th>\n",
       "      <td>Apple</td>\n",
       "      <td>Ultrabook</td>\n",
       "      <td>13.3</td>\n",
       "      <td>1440x900</td>\n",
       "      <td>1.8</td>\n",
       "      <td>8</td>\n",
       "      <td>128</td>\n",
       "      <td>Intel HD Graphics 6000</td>\n",
       "      <td>macOS</td>\n",
       "      <td>1.34</td>\n",
       "      <td>47895.5232</td>\n",
       "    </tr>\n",
       "    <tr>\n",
       "      <th>2</th>\n",
       "      <td>HP</td>\n",
       "      <td>Notebook</td>\n",
       "      <td>15.6</td>\n",
       "      <td>1920x1080</td>\n",
       "      <td>2.5</td>\n",
       "      <td>8</td>\n",
       "      <td>256</td>\n",
       "      <td>Intel HD Graphics 620</td>\n",
       "      <td>No OS</td>\n",
       "      <td>1.86</td>\n",
       "      <td>30636.0000</td>\n",
       "    </tr>\n",
       "    <tr>\n",
       "      <th>3</th>\n",
       "      <td>Apple</td>\n",
       "      <td>Ultrabook</td>\n",
       "      <td>15.4</td>\n",
       "      <td>2880x1800</td>\n",
       "      <td>2.7</td>\n",
       "      <td>16</td>\n",
       "      <td>512</td>\n",
       "      <td>AMD Radeon Pro 455</td>\n",
       "      <td>macOS</td>\n",
       "      <td>1.83</td>\n",
       "      <td>135195.3360</td>\n",
       "    </tr>\n",
       "    <tr>\n",
       "      <th>4</th>\n",
       "      <td>Apple</td>\n",
       "      <td>Ultrabook</td>\n",
       "      <td>13.3</td>\n",
       "      <td>2560x1600</td>\n",
       "      <td>3.1</td>\n",
       "      <td>8</td>\n",
       "      <td>256</td>\n",
       "      <td>Intel Iris Plus Graphics 650</td>\n",
       "      <td>macOS</td>\n",
       "      <td>1.37</td>\n",
       "      <td>96095.8080</td>\n",
       "    </tr>\n",
       "  </tbody>\n",
       "</table>\n",
       "</div>"
      ],
      "text/plain": [
       "  company   typename  inches screenresolution  cpu ram memory  \\\n",
       "0   Apple  Ultrabook    13.3        2560x1600  2.3   8    128   \n",
       "1   Apple  Ultrabook    13.3         1440x900  1.8   8    128   \n",
       "2      HP   Notebook    15.6        1920x1080  2.5   8    256   \n",
       "3   Apple  Ultrabook    15.4        2880x1800  2.7  16    512   \n",
       "4   Apple  Ultrabook    13.3        2560x1600  3.1   8    256   \n",
       "\n",
       "                            gpu  opsys weight        price  \n",
       "0  Intel Iris Plus Graphics 640  macOS   1.37   71378.6832  \n",
       "1        Intel HD Graphics 6000  macOS   1.34   47895.5232  \n",
       "2         Intel HD Graphics 620  No OS   1.86   30636.0000  \n",
       "3            AMD Radeon Pro 455  macOS   1.83  135195.3360  \n",
       "4  Intel Iris Plus Graphics 650  macOS   1.37   96095.8080  "
      ]
     },
     "execution_count": 399,
     "metadata": {},
     "output_type": "execute_result"
    }
   ],
   "source": [
    "df5.head()"
   ]
  },
  {
   "cell_type": "code",
   "execution_count": null,
   "metadata": {},
   "outputs": [],
   "source": [
    "# Olması gereken data tipi şekilleri şu şekilde olmalıdır.\n",
    "# company : object # doğru\n",
    "# typename : object # doğru\n",
    "# inches : float64 # doğru\n",
    "# screenresolution  : tamsayı (int) # yanlış\n",
    "# cpu : float # yanlış\n",
    "# ram : tamsayı (int) # yanlış\n",
    "# memory : tamsayı (int) # yanlış\n",
    "# gpu : object # pek çok veri bulunmaktadır. Silinmesi düşünülmektedir. # doğru\n",
    "# opsys : object # doğru\n",
    "# weight : float # yanlış\n",
    "# price : float64 # doğru\n",
    "\n",
    "## sonuç olarak değişmesi gerekenler\n",
    "\n",
    "# cpu : float # yanlış\n",
    "# ram : tamsayı (int) # yanlış\n",
    "# weight : float # yanlış......\n",
    "# sütunları düzenlenmelidir. "
   ]
  },
  {
   "cell_type": "code",
   "execution_count": 409,
   "metadata": {},
   "outputs": [
    {
     "name": "stdout",
     "output_type": "stream",
     "text": [
      "company              object\n",
      "typename             object\n",
      "inches              float64\n",
      "screenresolution     object\n",
      "cpu                  object\n",
      "ram                  object\n",
      "memory               object\n",
      "gpu                  object\n",
      "opsys                object\n",
      "weight               object\n",
      "price               float64\n",
      "dtype: object\n"
     ]
    }
   ],
   "source": [
    "print(df5.dtypes)"
   ]
  },
  {
   "cell_type": "code",
   "execution_count": null,
   "metadata": {},
   "outputs": [],
   "source": [
    "cpu, ram, memory, weight, "
   ]
  },
  {
   "cell_type": "code",
   "execution_count": 415,
   "metadata": {},
   "outputs": [],
   "source": [
    "df5['ram'] = df5['ram'].astype(int)"
   ]
  },
  {
   "cell_type": "code",
   "execution_count": 417,
   "metadata": {},
   "outputs": [],
   "source": [
    "df5['cpu'] = df5['cpu'].astype(float)"
   ]
  },
  {
   "cell_type": "code",
   "execution_count": 419,
   "metadata": {},
   "outputs": [],
   "source": [
    "df5['memory'] = df5['memory'].astype(int)"
   ]
  },
  {
   "cell_type": "code",
   "execution_count": 421,
   "metadata": {},
   "outputs": [],
   "source": [
    "df5['weight'] = df5['weight'].astype(float)"
   ]
  },
  {
   "cell_type": "code",
   "execution_count": 425,
   "metadata": {},
   "outputs": [
    {
     "name": "stdout",
     "output_type": "stream",
     "text": [
      "company              object\n",
      "typename             object\n",
      "inches              float64\n",
      "screenresolution     object\n",
      "cpu                 float64\n",
      "ram                   int32\n",
      "memory                int32\n",
      "gpu                  object\n",
      "opsys                object\n",
      "weight              float64\n",
      "price               float64\n",
      "dtype: object\n"
     ]
    }
   ],
   "source": [
    "print(df5.dtypes)"
   ]
  },
  {
   "cell_type": "code",
   "execution_count": 411,
   "metadata": {},
   "outputs": [
    {
     "name": "stdout",
     "output_type": "stream",
     "text": [
      "['macOS' 'No OS' 'Windows 10' 'Mac OS X' 'Linux' 'Android' 'Windows 10 S'\n",
      " 'Chrome OS' 'Windows 7']\n"
     ]
    }
   ],
   "source": [
    "benzersiz_veriler_4 = df5['opsys'].unique()\n",
    "print(benzersiz_veriler_4)"
   ]
  },
  {
   "cell_type": "code",
   "execution_count": 423,
   "metadata": {},
   "outputs": [
    {
     "data": {
      "text/html": [
       "<div>\n",
       "<style scoped>\n",
       "    .dataframe tbody tr th:only-of-type {\n",
       "        vertical-align: middle;\n",
       "    }\n",
       "\n",
       "    .dataframe tbody tr th {\n",
       "        vertical-align: top;\n",
       "    }\n",
       "\n",
       "    .dataframe thead th {\n",
       "        text-align: right;\n",
       "    }\n",
       "</style>\n",
       "<table border=\"1\" class=\"dataframe\">\n",
       "  <thead>\n",
       "    <tr style=\"text-align: right;\">\n",
       "      <th></th>\n",
       "      <th>company</th>\n",
       "      <th>typename</th>\n",
       "      <th>inches</th>\n",
       "      <th>screenresolution</th>\n",
       "      <th>cpu</th>\n",
       "      <th>ram</th>\n",
       "      <th>memory</th>\n",
       "      <th>gpu</th>\n",
       "      <th>opsys</th>\n",
       "      <th>weight</th>\n",
       "      <th>price</th>\n",
       "    </tr>\n",
       "  </thead>\n",
       "  <tbody>\n",
       "    <tr>\n",
       "      <th>0</th>\n",
       "      <td>Apple</td>\n",
       "      <td>Ultrabook</td>\n",
       "      <td>13.3</td>\n",
       "      <td>2560x1600</td>\n",
       "      <td>2.3</td>\n",
       "      <td>8</td>\n",
       "      <td>128</td>\n",
       "      <td>Intel Iris Plus Graphics 640</td>\n",
       "      <td>macOS</td>\n",
       "      <td>1.37</td>\n",
       "      <td>71378.6832</td>\n",
       "    </tr>\n",
       "    <tr>\n",
       "      <th>1</th>\n",
       "      <td>Apple</td>\n",
       "      <td>Ultrabook</td>\n",
       "      <td>13.3</td>\n",
       "      <td>1440x900</td>\n",
       "      <td>1.8</td>\n",
       "      <td>8</td>\n",
       "      <td>128</td>\n",
       "      <td>Intel HD Graphics 6000</td>\n",
       "      <td>macOS</td>\n",
       "      <td>1.34</td>\n",
       "      <td>47895.5232</td>\n",
       "    </tr>\n",
       "  </tbody>\n",
       "</table>\n",
       "</div>"
      ],
      "text/plain": [
       "  company   typename  inches screenresolution  cpu  ram  memory  \\\n",
       "0   Apple  Ultrabook    13.3        2560x1600  2.3    8     128   \n",
       "1   Apple  Ultrabook    13.3         1440x900  1.8    8     128   \n",
       "\n",
       "                            gpu  opsys  weight       price  \n",
       "0  Intel Iris Plus Graphics 640  macOS    1.37  71378.6832  \n",
       "1        Intel HD Graphics 6000  macOS    1.34  47895.5232  "
      ]
     },
     "execution_count": 423,
     "metadata": {},
     "output_type": "execute_result"
    }
   ],
   "source": [
    "df5.head(2)"
   ]
  },
  {
   "cell_type": "markdown",
   "metadata": {},
   "source": [
    "<div class=\"alert alert-block alert-success\">\n",
    "\n",
    "### <span style=\" color:red\"> Clean categorical columns:\n",
    "\n",
    "- Ensure consistent formatting in Company, TypeName, and OpSys columns (e.g., no leading/trailing spaces, proper case).\n",
    "\n",
    "- Simplify OpSys categories if there are too many unique values (e.g., group similar OS types)."
   ]
  },
  {
   "cell_type": "code",
   "execution_count": 427,
   "metadata": {},
   "outputs": [
    {
     "data": {
      "text/plain": [
       "typename\n",
       "Notebook              706\n",
       "Gaming                205\n",
       "Ultrabook             194\n",
       "2 in 1 Convertible    117\n",
       "Workstation            29\n",
       "Netbook                23\n",
       "Name: count, dtype: int64"
      ]
     },
     "execution_count": 427,
     "metadata": {},
     "output_type": "execute_result"
    }
   ],
   "source": [
    "df5.typename.value_counts()"
   ]
  },
  {
   "cell_type": "code",
   "execution_count": null,
   "metadata": {},
   "outputs": [],
   "source": [
    "#Typename kolonunda sorun yoktur. "
   ]
  },
  {
   "cell_type": "code",
   "execution_count": 429,
   "metadata": {},
   "outputs": [
    {
     "data": {
      "text/plain": [
       "opsys\n",
       "Windows 10      1047\n",
       "No OS             66\n",
       "Linux             58\n",
       "Windows 7         45\n",
       "Chrome OS         27\n",
       "macOS             13\n",
       "Mac OS X           8\n",
       "Windows 10 S       8\n",
       "Android            2\n",
       "Name: count, dtype: int64"
      ]
     },
     "execution_count": 429,
     "metadata": {},
     "output_type": "execute_result"
    }
   ],
   "source": [
    "df5.opsys.value_counts()"
   ]
  },
  {
   "cell_type": "code",
   "execution_count": null,
   "metadata": {},
   "outputs": [],
   "source": [
    "# Sorun yoktur. "
   ]
  },
  {
   "cell_type": "code",
   "execution_count": 431,
   "metadata": {},
   "outputs": [
    {
     "data": {
      "text/plain": [
       "screenresolution\n",
       "1920x1080    833\n",
       "1366x768     289\n",
       "3840x2160     43\n",
       "3200x1800     25\n",
       "2560x1440     23\n",
       "1600x900      23\n",
       "2560x1600      6\n",
       "2304x1440      6\n",
       "2256x1504      6\n",
       "1920x1200      5\n",
       "1440x900       4\n",
       "2880x1800      4\n",
       "2400x1600      4\n",
       "2160x1440      2\n",
       "2736x1824      1\n",
       "Name: count, dtype: int64"
      ]
     },
     "execution_count": 431,
     "metadata": {},
     "output_type": "execute_result"
    }
   ],
   "source": [
    "df5.screenresolution.value_counts()"
   ]
  },
  {
   "cell_type": "code",
   "execution_count": 433,
   "metadata": {},
   "outputs": [
    {
     "data": {
      "text/plain": [
       "company\n",
       "Dell         291\n",
       "Lenovo       289\n",
       "HP           268\n",
       "Asus         151\n",
       "Acer         101\n",
       "MSI           54\n",
       "Toshiba       48\n",
       "Apple         21\n",
       "Samsung        9\n",
       "Razer          7\n",
       "Mediacom       7\n",
       "Microsoft      6\n",
       "Xiaomi         4\n",
       "Vero           4\n",
       "Chuwi          3\n",
       "Google         3\n",
       "Fujitsu        3\n",
       "LG             3\n",
       "Huawei         2\n",
       "Name: count, dtype: int64"
      ]
     },
     "execution_count": 433,
     "metadata": {},
     "output_type": "execute_result"
    }
   ],
   "source": [
    "df6.company.value_counts()"
   ]
  },
  {
   "cell_type": "code",
   "execution_count": 435,
   "metadata": {},
   "outputs": [
    {
     "data": {
      "text/html": [
       "<div>\n",
       "<style scoped>\n",
       "    .dataframe tbody tr th:only-of-type {\n",
       "        vertical-align: middle;\n",
       "    }\n",
       "\n",
       "    .dataframe tbody tr th {\n",
       "        vertical-align: top;\n",
       "    }\n",
       "\n",
       "    .dataframe thead th {\n",
       "        text-align: right;\n",
       "    }\n",
       "</style>\n",
       "<table border=\"1\" class=\"dataframe\">\n",
       "  <thead>\n",
       "    <tr style=\"text-align: right;\">\n",
       "      <th></th>\n",
       "      <th>company</th>\n",
       "      <th>typename</th>\n",
       "      <th>inches</th>\n",
       "      <th>screenresolution</th>\n",
       "      <th>cpu</th>\n",
       "      <th>ram</th>\n",
       "      <th>memory</th>\n",
       "      <th>gpu</th>\n",
       "      <th>opsys</th>\n",
       "      <th>weight</th>\n",
       "      <th>price</th>\n",
       "    </tr>\n",
       "  </thead>\n",
       "  <tbody>\n",
       "    <tr>\n",
       "      <th>0</th>\n",
       "      <td>Apple</td>\n",
       "      <td>Ultrabook</td>\n",
       "      <td>13.3</td>\n",
       "      <td>2560x1600</td>\n",
       "      <td>2.3</td>\n",
       "      <td>8</td>\n",
       "      <td>128</td>\n",
       "      <td>Intel Iris Plus Graphics 640</td>\n",
       "      <td>macOS</td>\n",
       "      <td>1.37</td>\n",
       "      <td>71378.6832</td>\n",
       "    </tr>\n",
       "    <tr>\n",
       "      <th>1</th>\n",
       "      <td>Apple</td>\n",
       "      <td>Ultrabook</td>\n",
       "      <td>13.3</td>\n",
       "      <td>1440x900</td>\n",
       "      <td>1.8</td>\n",
       "      <td>8</td>\n",
       "      <td>128</td>\n",
       "      <td>Intel HD Graphics 6000</td>\n",
       "      <td>macOS</td>\n",
       "      <td>1.34</td>\n",
       "      <td>47895.5232</td>\n",
       "    </tr>\n",
       "  </tbody>\n",
       "</table>\n",
       "</div>"
      ],
      "text/plain": [
       "  company   typename  inches screenresolution  cpu  ram  memory  \\\n",
       "0   Apple  Ultrabook    13.3        2560x1600  2.3    8     128   \n",
       "1   Apple  Ultrabook    13.3         1440x900  1.8    8     128   \n",
       "\n",
       "                            gpu  opsys  weight       price  \n",
       "0  Intel Iris Plus Graphics 640  macOS    1.37  71378.6832  \n",
       "1        Intel HD Graphics 6000  macOS    1.34  47895.5232  "
      ]
     },
     "execution_count": 435,
     "metadata": {},
     "output_type": "execute_result"
    }
   ],
   "source": [
    "df5.head(2)"
   ]
  },
  {
   "cell_type": "code",
   "execution_count": 441,
   "metadata": {},
   "outputs": [
    {
     "data": {
      "text/plain": [
       "price\n",
       "58554.72     14\n",
       "95850.72     14\n",
       "79866.72     12\n",
       "63882.72     11\n",
       "69210.72     11\n",
       "             ..\n",
       "111355.20     1\n",
       "16197.12      1\n",
       "40439.52      1\n",
       "98994.24      1\n",
       "40705.92      1\n",
       "Name: count, Length: 791, dtype: int64"
      ]
     },
     "execution_count": 441,
     "metadata": {},
     "output_type": "execute_result"
    }
   ],
   "source": [
    "df5.price.value_counts()"
   ]
  },
  {
   "cell_type": "code",
   "execution_count": null,
   "metadata": {},
   "outputs": [],
   "source": [
    "# sorun yoktur."
   ]
  },
  {
   "cell_type": "code",
   "execution_count": 182,
   "metadata": {},
   "outputs": [
    {
     "name": "stdout",
     "output_type": "stream",
     "text": [
      "['Macos' 'No Os' 'Windows 10' 'Mac Os X' 'Linux' 'Android' 'Windows 10 S'\n",
      " 'Chrome Os' 'Windows 7']\n"
     ]
    }
   ],
   "source": [
    "benzersiz_veriler_3 = df3['opsys'].unique()\n",
    "print(benzersiz_veriler_3)"
   ]
  },
  {
   "cell_type": "code",
   "execution_count": 437,
   "metadata": {},
   "outputs": [
    {
     "name": "stdout",
     "output_type": "stream",
     "text": [
      "['macOS' 'No OS' 'Windows' 'Mac OS X' 'Linux' 'Android' 'Chrome OS']\n"
     ]
    }
   ],
   "source": [
    "# df3['opsys'] sütununu sadeleştirmek için bir eşleme sözlüğü kullanın\n",
    "opsys_mapping = {\n",
    "    'Macos': 'Mac OS',\n",
    "    'Mac Os X': 'Mac OS',\n",
    "    'Windows 10': 'Windows',\n",
    "    'Windows 10 S': 'Windows',\n",
    "    'Windows 7': 'Windows',\n",
    "    'Windows 8': 'Windows',\n",
    "    'Windows 8.1': 'Windows',\n",
    "    'Chrome Os': 'Chrome OS',\n",
    "    'No Os': 'No OS'\n",
    "}\n",
    "# Eşleme sözlüğünü kullanarak opsys sütununu güncelleyin\n",
    "df5['opsys'] = df5['opsys'].replace(opsys_mapping)\n",
    "# Daha sonra gruplandırmayı kontrol edelim.\n",
    "benzersiz_veriler_3 = df5['opsys'].unique()\n",
    "print(benzersiz_veriler_3)"
   ]
  },
  {
   "cell_type": "code",
   "execution_count": 443,
   "metadata": {},
   "outputs": [
    {
     "data": {
      "text/html": [
       "<div>\n",
       "<style scoped>\n",
       "    .dataframe tbody tr th:only-of-type {\n",
       "        vertical-align: middle;\n",
       "    }\n",
       "\n",
       "    .dataframe tbody tr th {\n",
       "        vertical-align: top;\n",
       "    }\n",
       "\n",
       "    .dataframe thead th {\n",
       "        text-align: right;\n",
       "    }\n",
       "</style>\n",
       "<table border=\"1\" class=\"dataframe\">\n",
       "  <thead>\n",
       "    <tr style=\"text-align: right;\">\n",
       "      <th></th>\n",
       "      <th>company</th>\n",
       "      <th>typename</th>\n",
       "      <th>inches</th>\n",
       "      <th>screenresolution</th>\n",
       "      <th>cpu</th>\n",
       "      <th>ram</th>\n",
       "      <th>memory</th>\n",
       "      <th>gpu</th>\n",
       "      <th>opsys</th>\n",
       "      <th>weight</th>\n",
       "      <th>price</th>\n",
       "    </tr>\n",
       "  </thead>\n",
       "  <tbody>\n",
       "    <tr>\n",
       "      <th>0</th>\n",
       "      <td>Apple</td>\n",
       "      <td>Ultrabook</td>\n",
       "      <td>13.3</td>\n",
       "      <td>2560x1600</td>\n",
       "      <td>2.3</td>\n",
       "      <td>8</td>\n",
       "      <td>128</td>\n",
       "      <td>Intel Iris Plus Graphics 640</td>\n",
       "      <td>macOS</td>\n",
       "      <td>1.37</td>\n",
       "      <td>71378.6832</td>\n",
       "    </tr>\n",
       "    <tr>\n",
       "      <th>1</th>\n",
       "      <td>Apple</td>\n",
       "      <td>Ultrabook</td>\n",
       "      <td>13.3</td>\n",
       "      <td>1440x900</td>\n",
       "      <td>1.8</td>\n",
       "      <td>8</td>\n",
       "      <td>128</td>\n",
       "      <td>Intel HD Graphics 6000</td>\n",
       "      <td>macOS</td>\n",
       "      <td>1.34</td>\n",
       "      <td>47895.5232</td>\n",
       "    </tr>\n",
       "    <tr>\n",
       "      <th>2</th>\n",
       "      <td>HP</td>\n",
       "      <td>Notebook</td>\n",
       "      <td>15.6</td>\n",
       "      <td>1920x1080</td>\n",
       "      <td>2.5</td>\n",
       "      <td>8</td>\n",
       "      <td>256</td>\n",
       "      <td>Intel HD Graphics 620</td>\n",
       "      <td>No OS</td>\n",
       "      <td>1.86</td>\n",
       "      <td>30636.0000</td>\n",
       "    </tr>\n",
       "    <tr>\n",
       "      <th>3</th>\n",
       "      <td>Apple</td>\n",
       "      <td>Ultrabook</td>\n",
       "      <td>15.4</td>\n",
       "      <td>2880x1800</td>\n",
       "      <td>2.7</td>\n",
       "      <td>16</td>\n",
       "      <td>512</td>\n",
       "      <td>AMD Radeon Pro 455</td>\n",
       "      <td>macOS</td>\n",
       "      <td>1.83</td>\n",
       "      <td>135195.3360</td>\n",
       "    </tr>\n",
       "    <tr>\n",
       "      <th>4</th>\n",
       "      <td>Apple</td>\n",
       "      <td>Ultrabook</td>\n",
       "      <td>13.3</td>\n",
       "      <td>2560x1600</td>\n",
       "      <td>3.1</td>\n",
       "      <td>8</td>\n",
       "      <td>256</td>\n",
       "      <td>Intel Iris Plus Graphics 650</td>\n",
       "      <td>macOS</td>\n",
       "      <td>1.37</td>\n",
       "      <td>96095.8080</td>\n",
       "    </tr>\n",
       "  </tbody>\n",
       "</table>\n",
       "</div>"
      ],
      "text/plain": [
       "  company   typename  inches screenresolution  cpu  ram  memory  \\\n",
       "0   Apple  Ultrabook    13.3        2560x1600  2.3    8     128   \n",
       "1   Apple  Ultrabook    13.3         1440x900  1.8    8     128   \n",
       "2      HP   Notebook    15.6        1920x1080  2.5    8     256   \n",
       "3   Apple  Ultrabook    15.4        2880x1800  2.7   16     512   \n",
       "4   Apple  Ultrabook    13.3        2560x1600  3.1    8     256   \n",
       "\n",
       "                            gpu  opsys  weight        price  \n",
       "0  Intel Iris Plus Graphics 640  macOS    1.37   71378.6832  \n",
       "1        Intel HD Graphics 6000  macOS    1.34   47895.5232  \n",
       "2         Intel HD Graphics 620  No OS    1.86   30636.0000  \n",
       "3            AMD Radeon Pro 455  macOS    1.83  135195.3360  \n",
       "4  Intel Iris Plus Graphics 650  macOS    1.37   96095.8080  "
      ]
     },
     "execution_count": 443,
     "metadata": {},
     "output_type": "execute_result"
    }
   ],
   "source": [
    "df5.head()"
   ]
  },
  {
   "cell_type": "code",
   "execution_count": 447,
   "metadata": {},
   "outputs": [],
   "source": [
    "df10=df5.copy()"
   ]
  },
  {
   "cell_type": "markdown",
   "metadata": {},
   "source": [
    "<div class=\"alert alert-block alert-success\">\n",
    "\n",
    "### <span style=\" color:red\"> Split compound columns:\n",
    "\n",
    "- Parse ScreenResolution to extract key features such as:\n",
    "- Resolution (e.g., Full HD, 4K)\n",
    "- Touchscreen (Yes/No)\n",
    "- Extract details from Cpu and Gpu columns, such as manufacturer or core type."
   ]
  },
  {
   "cell_type": "code",
   "execution_count": 451,
   "metadata": {},
   "outputs": [
    {
     "name": "stdout",
     "output_type": "stream",
     "text": [
      "     company            typename  inches screenresolution  cpu  ram  memory  \\\n",
      "0      Apple           Ultrabook    13.3        2560x1600  2.3    8     128   \n",
      "1      Apple           Ultrabook    13.3         1440x900  1.8    8     128   \n",
      "2         HP            Notebook    15.6        1920x1080  2.5    8     256   \n",
      "3      Apple           Ultrabook    15.4        2880x1800  2.7   16     512   \n",
      "4      Apple           Ultrabook    13.3        2560x1600  3.1    8     256   \n",
      "...      ...                 ...     ...              ...  ...  ...     ...   \n",
      "1269    Asus            Notebook    15.6         1366x768  2.5    4     500   \n",
      "1270  Lenovo  2 in 1 Convertible    14.0        1920x1080  2.5    4     128   \n",
      "1271  Lenovo  2 in 1 Convertible    13.3        3200x1800  2.5   16     512   \n",
      "1272  Lenovo            Notebook    14.0         1366x768  1.6    2      64   \n",
      "1273      HP            Notebook    15.6         1366x768  2.5    6       1   \n",
      "\n",
      "         gpu    opsys  weight        price  \n",
      "0      Intel    macOS    1.37   71378.6832  \n",
      "1      Intel    macOS    1.34   47895.5232  \n",
      "2      Intel    No OS    1.86   30636.0000  \n",
      "3        AMD    macOS    1.83  135195.3360  \n",
      "4      Intel    macOS    1.37   96095.8080  \n",
      "...      ...      ...     ...          ...  \n",
      "1269  Nvidia  Windows    2.20   38378.6496  \n",
      "1270   Intel  Windows    1.80   33992.6400  \n",
      "1271   Intel  Windows    1.30   79866.7200  \n",
      "1272   Intel  Windows    1.50   12201.1200  \n",
      "1273     AMD  Windows    2.19   40705.9200  \n",
      "\n",
      "[1274 rows x 11 columns]\n"
     ]
    }
   ],
   "source": [
    "df5['gpu'] = df5['gpu'].str.split().str[0]\n",
    "print(df5)"
   ]
  },
  {
   "cell_type": "markdown",
   "metadata": {},
   "source": [
    "<div class=\"alert alert-block alert-success\">\n",
    "\n",
    "### <span style=\" color:red\"> Check for outliers in numerical columns:\n",
    "\n",
    "- Identify outliers in columns like Inches, Weight, Ram, and Price using methods such as the IQR (Interquartile Range) or z-scores.\n",
    "- Consider removing or capping the outliers if necessary to improve data quality."
   ]
  },
  {
   "cell_type": "code",
   "execution_count": 453,
   "metadata": {},
   "outputs": [
    {
     "name": "stdout",
     "output_type": "stream",
     "text": [
      "Index(['company', 'typename', 'inches', 'screenresolution', 'cpu', 'ram',\n",
      "       'memory', 'gpu', 'opsys', 'weight', 'price'],\n",
      "      dtype='object')\n"
     ]
    }
   ],
   "source": [
    "print(df5.columns)"
   ]
  },
  {
   "cell_type": "code",
   "execution_count": 455,
   "metadata": {},
   "outputs": [
    {
     "name": "stdout",
     "output_type": "stream",
     "text": [
      "company              object\n",
      "typename             object\n",
      "inches              float64\n",
      "screenresolution     object\n",
      "cpu                 float64\n",
      "ram                   int32\n",
      "memory                int32\n",
      "gpu                  object\n",
      "opsys                object\n",
      "weight              float64\n",
      "price               float64\n",
      "dtype: object\n"
     ]
    }
   ],
   "source": [
    "print(df5.dtypes)"
   ]
  },
  {
   "cell_type": "code",
   "execution_count": 457,
   "metadata": {},
   "outputs": [
    {
     "name": "stdout",
     "output_type": "stream",
     "text": [
      "Z-Score yöntemine göre aykırı değerler:\n",
      "      company            typename  inches screenresolution   cpu  ram  memory  \\\n",
      "50     Lenovo  2 in 1 Convertible    10.1        1920x1200  1.44    4      64   \n",
      "177       MSI              Gaming    18.4        1920x1080  2.90   32     512   \n",
      "196     Razer              Gaming    17.3        3840x2160  2.90   32       1   \n",
      "224      Dell              Gaming    17.3        1920x1080  2.80   16     256   \n",
      "238      Asus              Gaming    17.3        1920x1080  2.90   32     512   \n",
      "251      Asus              Gaming    17.3        1920x1080  2.80   16     256   \n",
      "258       MSI              Gaming    17.3        1920x1080  2.80   16     512   \n",
      "329      Dell            Notebook    15.6        3840x2160  2.80   32       1   \n",
      "424      Dell              Gaming    17.3        2560x1440  2.90   16     256   \n",
      "438    Lenovo           Ultrabook    14.0        2560x1440  2.70   24     512   \n",
      "456      Dell            Notebook    17.3        1920x1080  2.70    8       1   \n",
      "491   Toshiba           Ultrabook    13.3        1920x1080  2.70   32     512   \n",
      "494      Asus              Gaming    17.3        1920x1080  2.60   24     256   \n",
      "517      Asus              Gaming    15.6        1920x1080  2.80   24     512   \n",
      "530      Dell              Gaming    17.3        1920x1080  2.80   16     128   \n",
      "552      Dell              Gaming    17.3        1920x1080  2.80   16     256   \n",
      "577    Lenovo              Gaming    17.3        1920x1080  2.70   32     256   \n",
      "578       MSI              Gaming    17.3        1920x1080  2.90   16     512   \n",
      "585       MSI              Gaming    17.3        1920x1080  2.70   16     128   \n",
      "603       MSI              Gaming    17.3        1920x1080  2.70   16     128   \n",
      "610    Lenovo            Notebook    15.6        3840x2160  3.10   32       1   \n",
      "650      Asus              Gaming    17.3        1920x1080  2.70   32     512   \n",
      "659      Dell              Gaming    17.3        3840x2160  2.80   32     512   \n",
      "723      Dell              Gaming    17.3        3840x2160  2.80   32       1   \n",
      "730      Acer              Gaming    17.3        1920x1080  2.60   16     128   \n",
      "744    Lenovo         Workstation    15.6        3840x2160  2.80   16       1   \n",
      "749        HP         Workstation    17.3        1920x1080  2.90   16     256   \n",
      "758      Dell              Gaming    15.6        3840x2160  2.80   16     256   \n",
      "780      Dell              Gaming    17.3        1920x1080  2.80   32       1   \n",
      "781      Asus              Gaming    17.3        1920x1080  2.60   16     256   \n",
      "788      Acer              Gaming    17.3        1920x1080  2.80   16     256   \n",
      "818      Dell              Gaming    17.3        1920x1080  2.80   16     128   \n",
      "830     Razer              Gaming    17.3        3840x2160  2.90   32     512   \n",
      "841      Dell              Gaming    17.3        1920x1080  2.80   32     512   \n",
      "901      Asus              Gaming    17.3        1920x1080  2.70   32     256   \n",
      "939      Dell              Gaming    17.3        2560x1440  2.70   16     512   \n",
      "955      Dell              Gaming    17.3        3840x2160  2.80   16     512   \n",
      "968      Dell              Gaming    17.3        1920x1080  2.80   32     256   \n",
      "972      Dell              Gaming    17.3        1920x1080  2.60   32     256   \n",
      "1048   Lenovo              Gaming    17.3        1920x1080  2.60   16     128   \n",
      "1066     Asus              Gaming    17.3        1920x1080  2.70   64       1   \n",
      "1081   Lenovo              Gaming    17.3        1920x1080  2.70   32     512   \n",
      "1082   Lenovo  2 in 1 Convertible    10.1        1920x1200  1.44    4      64   \n",
      "1099     Asus              Gaming    17.3        1920x1080  2.60   16     128   \n",
      "1114   Lenovo  2 in 1 Convertible    10.1        1920x1200  1.44    4      64   \n",
      "1116   Lenovo              Gaming    17.3        1920x1080  2.70   16     256   \n",
      "1126   Lenovo  2 in 1 Convertible    10.1        1920x1200  1.44    4      64   \n",
      "1136       HP         Workstation    17.3        1920x1080  2.60    8     256   \n",
      "1189     Acer              Gaming    17.3        1920x1080  2.80   16     256   \n",
      "1197     Asus              Gaming    17.3        1920x1080  2.60   16     512   \n",
      "1231    Razer              Gaming    14.0        1920x1080  2.80   16       1   \n",
      "\n",
      "         gpu    opsys  weight        price  \n",
      "50     Intel  Android    0.69   16996.3200  \n",
      "177   Nvidia  Windows    4.40  149130.7200  \n",
      "196   Nvidia  Windows    3.49  324954.7200  \n",
      "224   Nvidia  Windows    4.42  130873.7952  \n",
      "238   Nvidia  Windows    4.70  207259.2000  \n",
      "251   Nvidia  Windows    4.30   95850.7200  \n",
      "258   Nvidia  Windows    4.14  133146.7200  \n",
      "329   Nvidia  Windows    2.06  140605.9200  \n",
      "424   Nvidia  Windows    4.42  149130.7200  \n",
      "438    Intel  Windows    1.32  126912.9600  \n",
      "456   Nvidia  Windows    4.42  109010.8800  \n",
      "491    Intel  Windows    1.05  149130.7200  \n",
      "494   Nvidia  Windows    4.33   67612.3200  \n",
      "517   Nvidia  Windows    2.24  158135.0400  \n",
      "530   Nvidia  Windows    4.42  160520.3856  \n",
      "552   Nvidia  Windows    4.42  143802.7200  \n",
      "577   Nvidia  Windows    4.60  141884.6400  \n",
      "578   Nvidia  Windows    4.14  145401.1200  \n",
      "585   Nvidia  Windows    4.50  125154.7200  \n",
      "603   Nvidia  Windows    4.14  117162.7200  \n",
      "610   Nvidia  Windows    2.50  261018.7200  \n",
      "650   Nvidia  Windows    3.80  149130.7200  \n",
      "659   Nvidia  Windows    4.42  167691.8736  \n",
      "723   Nvidia  Windows    4.36  194972.8320  \n",
      "730   Nvidia  Windows    4.20  103096.8000  \n",
      "744   Nvidia  Windows    2.50  175770.7200  \n",
      "749   Nvidia  Windows    3.00  233845.9200  \n",
      "758   Nvidia  Windows    4.42  152859.7872  \n",
      "780   Nvidia  Windows    4.42  191211.2640  \n",
      "781   Nvidia  Windows    4.30  125208.0000  \n",
      "788   Nvidia  Windows    4.20  122490.7200  \n",
      "818   Nvidia  Windows    4.36  133467.4656  \n",
      "830   Nvidia  Windows    3.49  292986.7200  \n",
      "841   Nvidia  Windows    4.42  163723.5792  \n",
      "901   Nvidia  Windows    3.58   68145.1200  \n",
      "939   Nvidia  Windows    4.36  146946.2400  \n",
      "955   Nvidia  Windows    4.36  168045.1200  \n",
      "968   Nvidia  Windows    4.42  167778.7200  \n",
      "972   Nvidia  Windows    4.42  149184.0000  \n",
      "1048  Nvidia  Windows    4.60  122010.6672  \n",
      "1066  Nvidia  Windows    3.58  211788.0000  \n",
      "1081  Nvidia  Windows    4.60  172627.2000  \n",
      "1082   Intel  Windows    0.69   34433.2656  \n",
      "1099  Nvidia  Windows    4.30  122490.7200  \n",
      "1114   Intel  Android    0.69   29250.7200  \n",
      "1116  Nvidia  Windows    4.60  146519.4672  \n",
      "1126   Intel  Windows    0.69   25521.1200  \n",
      "1136  Nvidia  Windows    3.00  210424.0320  \n",
      "1189  Nvidia  Windows    4.20  138474.7200  \n",
      "1197  Nvidia  Windows    4.30  114552.0000  \n",
      "1231  Nvidia  Windows    1.95  186426.7200  \n",
      "\n",
      "IQR yöntemine göre aykırı değerler:\n",
      "     company            typename  inches screenresolution  cpu  ram  memory  \\\n",
      "3      Apple           Ultrabook    15.4        2880x1800  2.7   16     512   \n",
      "6      Apple           Ultrabook    15.4        2880x1800  2.2   16     256   \n",
      "8       Asus           Ultrabook    14.0        1920x1080  1.8   16     512   \n",
      "12     Apple           Ultrabook    15.4        2880x1800  2.8   16     256   \n",
      "17     Apple           Ultrabook    15.4        2880x1800  2.9   16     512   \n",
      "...      ...                 ...     ...              ...  ...  ...     ...   \n",
      "1245    Asus              Gaming    15.6        1920x1080  2.8   16     256   \n",
      "1247    Asus              Gaming    15.6        1920x1080  2.6   16     256   \n",
      "1256    Asus              Gaming    17.3        1920x1080  2.6   16     128   \n",
      "1268      HP             Netbook    11.6         1366x768  1.6    2      32   \n",
      "1271  Lenovo  2 in 1 Convertible    13.3        3200x1800  2.5   16     512   \n",
      "\n",
      "         gpu     opsys  weight        price  \n",
      "3        AMD     macOS    1.83  135195.3360  \n",
      "6      Intel  Mac OS X    2.04  114017.6016  \n",
      "8     Nvidia   Windows    1.30   79653.6000  \n",
      "12       AMD     macOS    1.83  130001.6016  \n",
      "17       AMD     macOS    1.83  152274.2400  \n",
      "...      ...       ...     ...          ...  \n",
      "1245  Nvidia   Windows    2.50   85248.0000  \n",
      "1247  Nvidia   Windows    2.34  123876.0000  \n",
      "1256  Nvidia   Windows    4.00  101232.0000  \n",
      "1268   Intel   Windows    1.17   11135.5200  \n",
      "1271   Intel   Windows    1.30   79866.7200  \n",
      "\n",
      "[262 rows x 11 columns]\n"
     ]
    }
   ],
   "source": [
    "# Z-Score yöntemi ile aykırı değer tespiti\n",
    "numeric_columns = ['inches', 'cpu', 'ram', 'memory', 'weight', 'price']\n",
    "z_scores = np.abs((df5[numeric_columns] - df5[numeric_columns].mean()) / df5[numeric_columns].std())\n",
    "outliers_z_score = df5[(z_scores > 3).any(axis=1)]\n",
    "print(\"Z-Score yöntemine göre aykırı değerler:\")\n",
    "print(outliers_z_score)\n",
    "\n",
    "# IQR yöntemi ile aykırı değer tespiti\n",
    "Q1 = df5[numeric_columns].quantile(0.25)\n",
    "Q3 = df5[numeric_columns].quantile(0.75)\n",
    "IQR = Q3 - Q1\n",
    "outliers_IQR = df5[((df5[numeric_columns] < (Q1 - 1.5 * IQR)) | (df5[numeric_columns] > (Q3 + 1.5 * IQR))).any(axis=1)]\n",
    "print(\"\\nIQR yöntemine göre aykırı değerler:\")\n",
    "print(outliers_IQR)"
   ]
  },
  {
   "cell_type": "code",
   "execution_count": 461,
   "metadata": {},
   "outputs": [
    {
     "name": "stdout",
     "output_type": "stream",
     "text": [
      "     company            typename  inches screenresolution  cpu  ram  memory  \\\n",
      "0      Apple           Ultrabook    13.3        2560x1600  2.3    8     128   \n",
      "1      Apple           Ultrabook    13.3         1440x900  1.8    8     128   \n",
      "2         HP            Notebook    15.6        1920x1080  2.5    8     256   \n",
      "4      Apple           Ultrabook    13.3        2560x1600  3.1    8     256   \n",
      "5       Acer            Notebook    15.6         1366x768  NaN    4     500   \n",
      "...      ...                 ...     ...              ...  ...  ...     ...   \n",
      "1267    Dell            Notebook    15.6         1366x768  2.7    8       1   \n",
      "1269    Asus            Notebook    15.6         1366x768  2.5    4     500   \n",
      "1270  Lenovo  2 in 1 Convertible    14.0        1920x1080  2.5    4     128   \n",
      "1272  Lenovo            Notebook    14.0         1366x768  1.6    2      64   \n",
      "1273      HP            Notebook    15.6         1366x768  2.5    6       1   \n",
      "\n",
      "         gpu    opsys  weight       price  \n",
      "0      Intel    macOS    1.37  71378.6832  \n",
      "1      Intel    macOS    1.34  47895.5232  \n",
      "2      Intel    No OS    1.86  30636.0000  \n",
      "4      Intel    macOS    1.37  96095.8080  \n",
      "5        AMD  Windows    2.10  21312.0000  \n",
      "...      ...      ...     ...         ...  \n",
      "1267     AMD    Linux    2.30  42943.1472  \n",
      "1269  Nvidia  Windows    2.20  38378.6496  \n",
      "1270   Intel  Windows    1.80  33992.6400  \n",
      "1272   Intel  Windows    1.50  12201.1200  \n",
      "1273     AMD  Windows    2.19  40705.9200  \n",
      "\n",
      "[1012 rows x 11 columns]\n"
     ]
    }
   ],
   "source": [
    "# IQR yöntemi ile aykırı değerleri filtrelemeyi tercih ettik. \n",
    "\n",
    "Q1 = df5[['inches', 'cpu', 'ram', 'memory', 'weight', 'price']].quantile(0.25)\n",
    "Q3 = df5[['inches', 'cpu', 'ram', 'memory', 'weight', 'price']].quantile(0.75)\n",
    "IQR = Q3 - Q1\n",
    "df_cleaned = df5[~((df5[['inches', 'cpu', 'ram', 'memory', 'weight', 'price']] < (Q1 - 1.5 * IQR)) | (df5[['inches', 'cpu', 'ram', 'memory', 'weight', 'price']] > (Q3 + 1.5 * IQR))).any(axis=1)]\n",
    "print(df_cleaned)"
   ]
  },
  {
   "cell_type": "markdown",
   "metadata": {},
   "source": [
    "<div class=\"alert alert-block alert-info alert\">\n",
    "\n",
    "## <span style=\" color:red\"> Analysis Goal"
   ]
  },
  {
   "cell_type": "markdown",
   "metadata": {},
   "source": [
    "<div class=\"alert alert-block alert-success\">\n",
    "\n",
    "### <span style=\" color:red\"> Distribution of Price:\n",
    "\n",
    "- Create a histogram or box plot to visualize the price distribution."
   ]
  },
  {
   "cell_type": "code",
   "execution_count": 562,
   "metadata": {},
   "outputs": [
    {
     "data": {
      "image/png": "[encoded data removed]",
      "text/plain": [
       "<Figure size 1000x600 with 1 Axes>"
      ]
     },
     "metadata": {},
     "output_type": "display_data"
    }
   ],
   "source": [
    "# Histogram of price distribution\n",
    "plt.figure(figsize=(10, 6))\n",
    "sns.histplot(df_cleaned['price'], bins=40, kde=True, color='purple')\n",
    "plt.title('Laptop Veri Seti Fiyat Dağılımı Histogramı')\n",
    "plt.xlabel('Fiyat')\n",
    "plt.ylabel('Frekans')\n",
    "plt.show()"
   ]
  },
  {
   "cell_type": "code",
   "execution_count": 478,
   "metadata": {},
   "outputs": [
    {
     "data": {
      "image/png": "[encoded data removed]",
      "text/plain": [
       "<Figure size 1000x600 with 1 Axes>"
      ]
     },
     "metadata": {},
     "output_type": "display_data"
    }
   ],
   "source": [
    "# Box plot of price distribution\n",
    "plt.figure(figsize=(10, 6))\n",
    "sns.boxplot(x=df_cleaned['price'], color='purple')\n",
    "plt.title('Laptop Veri Seti Fiyat Dağılımı - Box Plot')\n",
    "plt.xlabel('Fiyat')\n",
    "plt.show()"
   ]
  },
  {
   "cell_type": "markdown",
   "metadata": {},
   "source": [
    "<div class=\"alert alert-block alert-success\">\n",
    "\n",
    "### <span style=\" color:red\"> Company-wise Analysis:\n",
    "\n",
    "- Plot the count of laptops for each company using a bar chart.\n",
    "- Visualize the average price of laptops for each company."
   ]
  },
  {
   "cell_type": "code",
   "execution_count": 572,
   "metadata": {},
   "outputs": [
    {
     "data": {
      "image/png": "[encoded data removed]",
      "text/plain": [
       "<Figure size 1000x600 with 1 Axes>"
      ]
     },
     "metadata": {},
     "output_type": "display_data"
    }
   ],
   "source": [
    "# Her şirket için laptop sayısını hesaplama ve ilk 10 şirketi seçme\n",
    "company_counts = df_cleaned['company'].value_counts().head(10)\n",
    "\n",
    "# Bar grafiği oluşturma\n",
    "plt.figure(figsize=(10, 6))\n",
    "sns.barplot(x=company_counts.index, y=company_counts.values, palette='Purples')\n",
    "plt.title('Her Şirket İçin Laptop Sayısı')\n",
    "plt.xlabel('Şirket')\n",
    "plt.ylabel('Laptop Sayısı')\n",
    "plt.xticks(rotation=60)  # X ekseni etiketlerini eğik konuma getirme\n",
    "plt.grid(True)  \n",
    "plt.show()\n"
   ]
  },
  {
   "cell_type": "code",
   "execution_count": 568,
   "metadata": {},
   "outputs": [
    {
     "data": {
      "image/png": "[encoded data removed]",
      "text/plain": [
       "<Figure size 1000x600 with 1 Axes>"
      ]
     },
     "metadata": {},
     "output_type": "display_data"
    }
   ],
   "source": [
    "# Her şirket için ortalama fiyatı hesaplama\n",
    "average_prices = df_cleaned.groupby('company')['price'].mean().sort_values(ascending=False)\n",
    "\n",
    "# Bar grafiği oluşturma\n",
    "plt.figure(figsize=(10, 6))\n",
    "sns.barplot(x=average_prices.index, y=average_prices.values, palette='Purples')\n",
    "plt.title('Her Şirket İçin Laptopların Ortalama Fiyatı')\n",
    "plt.xlabel('Şirket')\n",
    "plt.ylabel('Ortalama Fiyat')\n",
    "plt.xticks(rotation=60)  # X ekseni etiketlerini dikey konuma getirme\n",
    "plt.grid(True)  \n",
    "plt.show()"
   ]
  },
  {
   "cell_type": "markdown",
   "metadata": {},
   "source": [
    "<div class=\"alert alert-block alert-success\">\n",
    "\n",
    "### <span style=\" color:red\"> Relationship between Screen Size and Price:\n",
    "\n",
    "- Create a scatter plot showing the relationship between Inches and Price. "
   ]
  },
  {
   "cell_type": "code",
   "execution_count": 564,
   "metadata": {},
   "outputs": [
    {
     "data": {
      "image/png": "[encoded data removed]",
      "text/plain": [
       "<Figure size 1000x600 with 1 Axes>"
      ]
     },
     "metadata": {},
     "output_type": "display_data"
    }
   ],
   "source": [
    "# Scatter plot oluşturma\n",
    "plt.figure(figsize=(10, 6))\n",
    "sns.scatterplot(x='inches', y='price', data=df_cleaned, color='purple')\n",
    "plt.title('Ekran Boyutu ve Fiyat Arasındaki İlişki - Scatter Plot')\n",
    "plt.xlabel('İnç')\n",
    "plt.ylabel('Dolar USD')\n",
    "plt.grid(True)  \n",
    "plt.show()"
   ]
  },
  {
   "cell_type": "markdown",
   "metadata": {},
   "source": [
    "<div class=\"alert alert-block alert-success\">\n",
    "\n",
    "### <span style=\" color:red\"> RAM vs Price Analysis:\n",
    "\n",
    "- Use a bar plot or scatter plot to analyze how Ram affects Price."
   ]
  },
  {
   "cell_type": "code",
   "execution_count": 566,
   "metadata": {},
   "outputs": [
    {
     "data": {
      "image/png": "[encoded data removed]",
      "text/plain": [
       "<Figure size 1000x600 with 1 Axes>"
      ]
     },
     "metadata": {},
     "output_type": "display_data"
    }
   ],
   "source": [
    "# Scatter plot oluşturma\n",
    "plt.figure(figsize=(10, 6))\n",
    "sns.scatterplot(x='ram', y='price', data=df_cleaned, color='purple')\n",
    "plt.title('Ram ve Price Arasındaki İlişki - Scatter Plot')\n",
    "plt.xlabel('Ram (GB)')\n",
    "plt.ylabel('Fiyat')\n",
    "plt.grid(True)  \n",
    "plt.show()"
   ]
  },
  {
   "cell_type": "code",
   "execution_count": 570,
   "metadata": {},
   "outputs": [
    {
     "data": {
      "image/png": "[encoded data removed]",
      "text/plain": [
       "<Figure size 1000x600 with 1 Axes>"
      ]
     },
     "metadata": {},
     "output_type": "display_data"
    }
   ],
   "source": [
    "# Her Ram değeri için ortalama fiyatı hesaplama\n",
    "average_prices_by_ram = df_cleaned.groupby('ram')['price'].mean().sort_values()\n",
    "\n",
    "# Bar grafiği oluşturma\n",
    "plt.figure(figsize=(10, 6))\n",
    "sns.barplot(x=average_prices_by_ram.index, y=average_prices_by_ram.values, palette='Purples')\n",
    "plt.title('Her Ram Değeri İçin Ortalama Fiyat')\n",
    "plt.xlabel('Ram (GB)')\n",
    "plt.ylabel('Ortalama Fiyat')\n",
    "plt.grid(True)  \n",
    "plt.show()"
   ]
  },
  {
   "cell_type": "markdown",
   "metadata": {},
   "source": [
    "<div class=\"alert alert-block alert-success\">\n",
    "\n",
    "### <span style=\" color:red\"> Operating System Market Share:\n",
    "\n",
    "- Create a pie chart or bar chart to show the distribution of laptops by OpSys."
   ]
  },
  {
   "cell_type": "code",
   "execution_count": 521,
   "metadata": {},
   "outputs": [
    {
     "data": {
      "image/png": "[encoded data removed]",
      "text/plain": [
       "<Figure size 1000x600 with 1 Axes>"
      ]
     },
     "metadata": {},
     "output_type": "display_data"
    }
   ],
   "source": [
    "# Her işletim sistemi için laptop sayısını hesaplama\n",
    "opsys_counts = df_cleaned['opsys'].value_counts()\n",
    "\n",
    "# Dilimlerin patlatma oranlarını hesaplama\n",
    "explode = [0.1 if i == 0 else 0 for i in range(len(opsys_counts))]\n",
    "\n",
    "# Pasta grafiği oluşturma\n",
    "plt.figure(figsize=(10, 6))\n",
    "wedges, texts, autotexts = plt.pie(opsys_counts, labels=opsys_counts.index, colors=sns.color_palette('Purples', len(opsys_counts)),\n",
    "                                   autopct='%1.1f%%', startangle=140, explode=explode)\n",
    "\n",
    "# Yüzde rakamlarını dilimlerin dışında göstermek için ayar yapma\n",
    "for autotext in autotexts:\n",
    "    autotext.set_color('black')\n",
    "    autotext.set_fontsize(10)\n",
    "    autotext.set_fontweight('bold')\n",
    "\n",
    "plt.title('Laptopların İşletim Sistemine Göre Dağılımı - Pasta Grafiği')\n",
    "plt.axis('equal')\n",
    "plt.show()"
   ]
  },
  {
   "cell_type": "code",
   "execution_count": 523,
   "metadata": {},
   "outputs": [
    {
     "data": {
      "image/png": "[encoded data removed]",
      "text/plain": [
       "<Figure size 1000x600 with 1 Axes>"
      ]
     },
     "metadata": {},
     "output_type": "display_data"
    }
   ],
   "source": [
    "# Bar grafiği oluşturma\n",
    "plt.figure(figsize=(10, 6))\n",
    "sns.barplot(x=opsys_counts.index, y=opsys_counts.values, palette='Purples')\n",
    "plt.title('Laptopların İşletim Sistemine Göre Dağılımı - Bar Grafiği')\n",
    "plt.xlabel('İşletim Sistemi')\n",
    "plt.ylabel('Laptop Sayısı')\n",
    "plt.xticks(rotation=60)  # X ekseni etiketlerini eğik konuma getirme\n",
    "plt.show()"
   ]
  },
  {
   "cell_type": "markdown",
   "metadata": {},
   "source": [
    "<div class=\"alert alert-block alert-success\">\n",
    "\n",
    "### <span style=\" color:red\"> Weight Distribution:\n",
    "\n",
    "- Plot a histogram to analyze the weight distribution of laptops."
   ]
  },
  {
   "cell_type": "code",
   "execution_count": 600,
   "metadata": {},
   "outputs": [
    {
     "data": {
      "image/png": "[encoded data removed]",
      "text/plain": [
       "<Figure size 1000x600 with 1 Axes>"
      ]
     },
     "metadata": {},
     "output_type": "display_data"
    }
   ],
   "source": [
    "plt.figure(figsize=(10, 6))\n",
    "plt.hist(df_cleaned['weight'], bins=10, edgecolor='black', color='purple')\n",
    "plt.title('Laptopların Ağırlık Dağılımı')\n",
    "plt.xlabel('Ağırlık (kg)')\n",
    "plt.ylabel('Frekans')\n",
    "plt.grid(True)\n",
    "plt.show()"
   ]
  },
  {
   "cell_type": "markdown",
   "metadata": {},
   "source": [
    "<div class=\"alert alert-block alert-success\">\n",
    "\n",
    "### <span style=\" color:red\"> Price Correlation Analysis:\n",
    "\n",
    "- Compute and visualize the correlation between numerical columns (Inches, Weight, Ram, etc.) and Price."
   ]
  },
  {
   "cell_type": "code",
   "execution_count": 536,
   "metadata": {},
   "outputs": [
    {
     "name": "stdout",
     "output_type": "stream",
     "text": [
      "          inches       cpu    weight     price\n",
      "inches  1.000000  0.134425  0.878914 -0.339453\n",
      "cpu     0.134425  1.000000  0.191535  0.346381\n",
      "weight  0.878914  0.191535  1.000000 -0.309594\n",
      "price  -0.339453  0.346381 -0.309594  1.000000\n"
     ]
    }
   ],
   "source": [
    "# Sadece numerik sütunları seçme\n",
    "numeric_columns = df_cleaned.select_dtypes(include=['float64', 'int64'])\n",
    "\n",
    "# Korelasyon matrisini hesaplama\n",
    "correlation_matrix = numeric_columns.corr()\n",
    "print(correlation_matrix)"
   ]
  },
  {
   "cell_type": "code",
   "execution_count": 538,
   "metadata": {},
   "outputs": [
    {
     "data": {
      "image/png": "[encoded data removed]",
      "text/plain": [
       "<Figure size 1000x800 with 2 Axes>"
      ]
     },
     "metadata": {},
     "output_type": "display_data"
    }
   ],
   "source": [
    "# Korelasyon matrisini görselleştirme\n",
    "plt.figure(figsize=(10, 8))\n",
    "sns.heatmap(correlation_matrix, annot=True, cmap='Purples', vmin=-1, vmax=1)\n",
    "plt.title('Numerik Sütunlar ile Price Arasındaki Korelasyon - Heatmap')\n",
    "plt.show()"
   ]
  },
  {
   "cell_type": "markdown",
   "metadata": {},
   "source": [
    "<div class=\"alert alert-block alert-success\">\n",
    "\n",
    "### <span style=\" color:red\"> ScreenResolution Impact on Price:\n",
    "\n",
    "- Analyze how different resolution types (e.g., Full HD, 4K) affect the price."
   ]
  },
  {
   "cell_type": "code",
   "execution_count": 540,
   "metadata": {},
   "outputs": [
    {
     "data": {
      "text/html": [
       "<div>\n",
       "<style scoped>\n",
       "    .dataframe tbody tr th:only-of-type {\n",
       "        vertical-align: middle;\n",
       "    }\n",
       "\n",
       "    .dataframe tbody tr th {\n",
       "        vertical-align: top;\n",
       "    }\n",
       "\n",
       "    .dataframe thead th {\n",
       "        text-align: right;\n",
       "    }\n",
       "</style>\n",
       "<table border=\"1\" class=\"dataframe\">\n",
       "  <thead>\n",
       "    <tr style=\"text-align: right;\">\n",
       "      <th></th>\n",
       "      <th>company</th>\n",
       "      <th>typename</th>\n",
       "      <th>inches</th>\n",
       "      <th>screenresolution</th>\n",
       "      <th>cpu</th>\n",
       "      <th>ram</th>\n",
       "      <th>memory</th>\n",
       "      <th>gpu</th>\n",
       "      <th>opsys</th>\n",
       "      <th>weight</th>\n",
       "      <th>price</th>\n",
       "    </tr>\n",
       "  </thead>\n",
       "  <tbody>\n",
       "    <tr>\n",
       "      <th>0</th>\n",
       "      <td>Apple</td>\n",
       "      <td>Ultrabook</td>\n",
       "      <td>13.3</td>\n",
       "      <td>2560x1600</td>\n",
       "      <td>2.3</td>\n",
       "      <td>8</td>\n",
       "      <td>128</td>\n",
       "      <td>Intel</td>\n",
       "      <td>macOS</td>\n",
       "      <td>1.37</td>\n",
       "      <td>71378.6832</td>\n",
       "    </tr>\n",
       "    <tr>\n",
       "      <th>1</th>\n",
       "      <td>Apple</td>\n",
       "      <td>Ultrabook</td>\n",
       "      <td>13.3</td>\n",
       "      <td>1440x900</td>\n",
       "      <td>1.8</td>\n",
       "      <td>8</td>\n",
       "      <td>128</td>\n",
       "      <td>Intel</td>\n",
       "      <td>macOS</td>\n",
       "      <td>1.34</td>\n",
       "      <td>47895.5232</td>\n",
       "    </tr>\n",
       "  </tbody>\n",
       "</table>\n",
       "</div>"
      ],
      "text/plain": [
       "  company   typename  inches screenresolution  cpu  ram  memory    gpu  opsys  \\\n",
       "0   Apple  Ultrabook    13.3        2560x1600  2.3    8     128  Intel  macOS   \n",
       "1   Apple  Ultrabook    13.3         1440x900  1.8    8     128  Intel  macOS   \n",
       "\n",
       "   weight       price  \n",
       "0    1.37  71378.6832  \n",
       "1    1.34  47895.5232  "
      ]
     },
     "execution_count": 540,
     "metadata": {},
     "output_type": "execute_result"
    }
   ],
   "source": [
    "df_cleaned.head(2)"
   ]
  },
  {
   "cell_type": "markdown",
   "metadata": {},
   "source": [
    "<div class=\"alert alert-block alert-success\">\n",
    "\n",
    "### <span style=\" color:red\"> Top CPU/GPU Manufacturers:\n",
    "\n",
    "- Extract and visualize the most common CPU and GPU manufacturers."
   ]
  },
  {
   "cell_type": "code",
   "execution_count": 544,
   "metadata": {},
   "outputs": [
    {
     "name": "stdout",
     "output_type": "stream",
     "text": [
      "gpu_manufacturer\n",
      "Intel     614\n",
      "Nvidia    242\n",
      "AMD       155\n",
      "ARM         1\n",
      "Name: count, dtype: int64\n"
     ]
    }
   ],
   "source": [
    "# GPU üreticilerini ayıklama\n",
    "df_cleaned['gpu_manufacturer'] = df_cleaned['gpu'].str.split().str[0]\n",
    "\n",
    "# En yaygın GPU üreticilerini hesaplama\n",
    "gpu_counts = df_cleaned['gpu_manufacturer'].value_counts()\n",
    "\n",
    "print(gpu_counts)"
   ]
  },
  {
   "cell_type": "code",
   "execution_count": 546,
   "metadata": {},
   "outputs": [
    {
     "data": {
      "image/png": "[encoded data removed]",
      "text/plain": [
       "<Figure size 1000x600 with 1 Axes>"
      ]
     },
     "metadata": {},
     "output_type": "display_data"
    }
   ],
   "source": [
    "# Bar grafiği oluşturma\n",
    "plt.figure(figsize=(10, 6))\n",
    "sns.barplot(x=gpu_counts.index, y=gpu_counts.values, palette='Purples')\n",
    "plt.title('En Yaygın GPU Üreticileri')\n",
    "plt.xlabel('GPU Üreticisi')\n",
    "plt.ylabel('Sayısı')\n",
    "plt.xticks(rotation=60)  # X ekseni etiketlerini eğik konuma getirme\n",
    "plt.show()"
   ]
  },
  {
   "cell_type": "markdown",
   "metadata": {},
   "source": [
    "<div class=\"alert alert-block alert-success\">\n",
    "\n",
    "### <span style=\" color:red\"> RAM Analysis:\n",
    "\n",
    "- Identify the most common RAM configurations and their respective average prices."
   ]
  },
  {
   "cell_type": "code",
   "execution_count": 548,
   "metadata": {},
   "outputs": [
    {
     "name": "stdout",
     "output_type": "stream",
     "text": [
      "     Count  Average Price\n",
      "ram                      \n",
      "8      606   62359.389410\n",
      "4      338   31273.290277\n",
      "6       35   32999.318126\n",
      "12      23   63792.282991\n",
      "2       10   13654.598400\n"
     ]
    }
   ],
   "source": [
    "# Her RAM boyutu için sayımı ve ortalama fiyatı hesaplama\n",
    "ram_stats = df_cleaned.groupby('ram')['price'].agg(['count', 'mean']).sort_values(by='count', ascending=False)\n",
    "ram_stats.columns = ['Count', 'Average Price']\n",
    "print(ram_stats)\n"
   ]
  },
  {
   "cell_type": "code",
   "execution_count": 552,
   "metadata": {},
   "outputs": [
    {
     "data": {
      "image/png": "[encoded data removed]",
      "text/plain": [
       "<Figure size 1000x600 with 1 Axes>"
      ]
     },
     "metadata": {},
     "output_type": "display_data"
    }
   ],
   "source": [
    "import matplotlib.pyplot as plt\n",
    "import seaborn as sns\n",
    "\n",
    "# Bar grafiği oluşturma\n",
    "plt.figure(figsize=(10, 6))\n",
    "sns.barplot(x=ram_stats.index, y=ram_stats['Average Price'], palette='Purples', order=ram_stats.sort_values('Average Price', ascending=False).index)\n",
    "plt.title('En Yaygın RAM Boyutları ve Ortalama Fiyatları')\n",
    "plt.xlabel('RAM (GB)')\n",
    "plt.ylabel('Ortalama Fiyat')\n",
    "plt.show()\n"
   ]
  },
  {
   "cell_type": "markdown",
   "metadata": {},
   "source": [
    "<div class=\"alert alert-block alert-success\">\n",
    "\n",
    "### <span style=\" color:red\"> High-end Laptop Analysis:\n",
    "\n",
    "- Define a \"high-end\" laptop (e.g., based on Price or specs) and analyze their characteristics."
   ]
  },
  {
   "cell_type": "code",
   "execution_count": 578,
   "metadata": {},
   "outputs": [
    {
     "name": "stdout",
     "output_type": "stream",
     "text": [
      "Number of High-End Laptops: 101\n"
     ]
    },
    {
     "data": {
      "image/png": "[encoded data removed]",
      "text/plain": [
       "<Figure size 800x600 with 1 Axes>"
      ]
     },
     "metadata": {},
     "output_type": "display_data"
    }
   ],
   "source": [
    "high_end_threshold = df_cleaned['price'].quantile(0.9)  # Top 10% of prices\n",
    "high_end_laptops = df_cleaned[df_cleaned['price'] > high_end_threshold]\n",
    "\n",
    "print(\"Number of High-End Laptops:\", len(high_end_laptops))\n",
    "\n",
    "plt.figure(figsize=(8, 6))\n",
    "sns.histplot(high_end_laptops['price'], palette='Purples', kde=True)\n",
    "plt.title('Price Distribution of High-End Laptops')\n",
    "plt.xlabel('Price')\n",
    "plt.ylabel('Frequency')\n",
    "plt.show()"
   ]
  },
  {
   "cell_type": "markdown",
   "metadata": {},
   "source": [
    "<div class=\"alert alert-block alert-success\">\n",
    "\n",
    "### <span style=\" color:red\"> Feel free to include any additional analyses."
   ]
  },
  {
   "cell_type": "markdown",
   "metadata": {},
   "source": [
    "<div class=\"alert alert-info alert-warning \">\n",
    "\n",
    "# <span style=\" color:red\">Conclusions"
   ]
  },
  {
   "cell_type": "code",
   "execution_count": null,
   "metadata": {},
   "outputs": [],
   "source": []
  },
  {
   "cell_type": "markdown",
   "metadata": {},
   "source": [
    "# <p style=\"background-color:green;font-family:newtimeroman;font-size:200%;color:white;text-align:center;border-radius:20px 20px;\"><b>Congratulations!</b></p>\n",
    "![](https://www.techproeducation.com/logo/headerlogo.svg)\n",
    "\n",
    "<b>Yeniliklerden ilk siz haberdar olmak istiyorsanız lütfen bizi takip etmeyi unutmayın </b>[YouTube](https://www.youtube.com/c/techproeducation) | [Instagram](https://www.instagram.com/techproeducation) | [Facebook](https://www.facebook.com/techproeducation) | [Telegram](https://t.me/joinchat/HH2qRvA-ulh4OWbb) | [Whatsapp](https://api.whatsapp.com/send/?phone=%2B15853042959&text&type=phone_number&app_absent=0) | [LinkedIn](https://www.linkedin.com/company/techproeducation/mycompany/) |"
   ]
  }
 ],
 "metadata": {
  "kernelspec": {
   "display_name": "Python 3 (ipykernel)",
   "language": "python",
   "name": "python3"
  },
  "language_info": {
   "codemirror_mode": {
    "name": "ipython",
    "version": 3
   },
   "file_extension": ".py",
   "mimetype": "text/x-python",
   "name": "python",
   "nbconvert_exporter": "python",
   "pygments_lexer": "ipython3",
   "version": "3.12.7"
  }
 },
 "nbformat": 4,
 "nbformat_minor": 4
}
